{
  "cells": [
    {
      "cell_type": "markdown",
      "metadata": {
        "id": "view-in-github",
        "colab_type": "text"
      },
      "source": [
        "<a href=\"https://colab.research.google.com/github/NickMuhigi/Time-Series-Forecasting/blob/main/air_quality_forecasting_code.ipynb\" target=\"_parent\"><img src=\"https://colab.research.google.com/assets/colab-badge.svg\" alt=\"Open In Colab\"/></a>"
      ]
    },
    {
      "cell_type": "markdown",
      "metadata": {
        "id": "iTsEYdtov6tp"
      },
      "source": [
        "# Beijing Air Quality Forecasting Starter Notebook"
      ]
    },
    {
      "cell_type": "markdown",
      "source": [
        "Imports and setup"
      ],
      "metadata": {
        "id": "V66N8KcqquLf"
      }
    },
    {
      "cell_type": "code",
      "execution_count": 171,
      "metadata": {
        "id": "nWkSHhqXrCqF"
      },
      "outputs": [],
      "source": [
        "import pandas as pd\n",
        "import numpy as np\n",
        "import matplotlib.pyplot as plt\n",
        "import seaborn as sns\n",
        "import tensorflow as tf\n",
        "from tensorflow.keras.models import Model, Sequential\n",
        "from tensorflow.keras.layers import LSTM, GRU, Dense, Dropout, Bidirectional, Input, Layer\n",
        "from tensorflow.keras.optimizers import Adam\n",
        "from tensorflow.keras.callbacks import EarlyStopping, ReduceLROnPlateau\n",
        "from sklearn.preprocessing import MinMaxScaler\n",
        "from google.colab import drive\n",
        "import os\n",
        "import datetime\n",
        "from tabulate import tabulate"
      ]
    },
    {
      "cell_type": "markdown",
      "source": [
        "For reproducibility"
      ],
      "metadata": {
        "id": "a7_Rf8yxq3Ck"
      }
    },
    {
      "cell_type": "code",
      "source": [
        "SEED = 42\n",
        "np.random.seed(SEED)\n",
        "tf.random.set_seed(SEED)"
      ],
      "metadata": {
        "id": "y4ffxPlRq5Wo"
      },
      "execution_count": 172,
      "outputs": []
    },
    {
      "cell_type": "markdown",
      "source": [
        "Mount Google Drive"
      ],
      "metadata": {
        "id": "gfSxMdkpq9gZ"
      }
    },
    {
      "cell_type": "code",
      "execution_count": 173,
      "metadata": {
        "colab": {
          "base_uri": "https://localhost:8080/"
        },
        "id": "y_C4HV99rHd5",
        "outputId": "2ba2e540-714d-48c7-fe90-a64a4fb1239f"
      },
      "outputs": [
        {
          "output_type": "stream",
          "name": "stdout",
          "text": [
            "Drive already mounted at /content/drive; to attempt to forcibly remount, call drive.mount(\"/content/drive\", force_remount=True).\n"
          ]
        }
      ],
      "source": [
        "drive.mount('/content/drive')"
      ]
    },
    {
      "cell_type": "markdown",
      "source": [
        "Load Data"
      ],
      "metadata": {
        "id": "xk565gFerMlk"
      }
    },
    {
      "cell_type": "code",
      "execution_count": 175,
      "metadata": {
        "id": "gxW-6b_jrLAL"
      },
      "outputs": [],
      "source": [
        "train_path = '/content/drive/MyDrive/train.csv'\n",
        "test_path = '/content/drive/MyDrive/test.csv'\n",
        "sample_path = '/content/drive/MyDrive/sample_submission .csv'\n",
        "train = pd.read_csv(train_path)\n",
        "test = pd.read_csv(test_path)\n",
        "sample = pd.read_csv(sample_path)"
      ]
    },
    {
      "cell_type": "markdown",
      "metadata": {
        "id": "cRse3uqRrft5"
      },
      "source": [
        "# Explore the training data\n",
        "\n",
        "In this sections explore your dataset with appropiate statistics and visualisations to understand your better. Ensure that you explain output of every code cell and what it entails."
      ]
    },
    {
      "cell_type": "code",
      "execution_count": 176,
      "metadata": {
        "id": "35IGrMYRscQx",
        "colab": {
          "base_uri": "https://localhost:8080/",
          "height": 666
        },
        "outputId": "ddb9e1a2-7d8a-445c-88b5-5678f74486a0"
      },
      "outputs": [
        {
          "output_type": "stream",
          "name": "stdout",
          "text": [
            "Training Data Shape: (30676, 12)\n",
            "Test Data Shape: (13148, 11)\n",
            "Columns: ['No', 'DEWP', 'TEMP', 'PRES', 'Iws', 'Is', 'Ir', 'datetime', 'cbwd_NW', 'cbwd_SE', 'cbwd_cv', 'pm2.5']\n"
          ]
        },
        {
          "output_type": "display_data",
          "data": {
            "text/plain": [
              "   No      DEWP      TEMP      PRES       Iws        Is        Ir  \\\n",
              "0   1 -1.580878 -1.922250  0.443328 -0.441894 -0.069353 -0.137667   \n",
              "1   2 -1.580878 -2.004228  0.345943 -0.379306 -0.069353 -0.137667   \n",
              "2   3 -1.580878 -1.922250  0.248559 -0.343514 -0.069353 -0.137667   \n",
              "3   4 -1.580878 -2.168183  0.248559 -0.280926 -0.069353 -0.137667   \n",
              "4   5 -1.511594 -2.004228  0.151174 -0.218339 -0.069353 -0.137667   \n",
              "\n",
              "              datetime   cbwd_NW   cbwd_SE   cbwd_cv  pm2.5  \n",
              "0  2010-01-01 00:00:00  1.448138 -0.732019 -0.522096    NaN  \n",
              "1  2010-01-01 01:00:00  1.448138 -0.732019 -0.522096    NaN  \n",
              "2  2010-01-01 02:00:00  1.448138 -0.732019 -0.522096    NaN  \n",
              "3  2010-01-01 03:00:00  1.448138 -0.732019 -0.522096    NaN  \n",
              "4  2010-01-01 04:00:00  1.448138 -0.732019 -0.522096    NaN  "
            ],
            "text/html": [
              "\n",
              "  <div id=\"df-f393ba90-171c-40ad-adba-730c860202f4\" class=\"colab-df-container\">\n",
              "    <div>\n",
              "<style scoped>\n",
              "    .dataframe tbody tr th:only-of-type {\n",
              "        vertical-align: middle;\n",
              "    }\n",
              "\n",
              "    .dataframe tbody tr th {\n",
              "        vertical-align: top;\n",
              "    }\n",
              "\n",
              "    .dataframe thead th {\n",
              "        text-align: right;\n",
              "    }\n",
              "</style>\n",
              "<table border=\"1\" class=\"dataframe\">\n",
              "  <thead>\n",
              "    <tr style=\"text-align: right;\">\n",
              "      <th></th>\n",
              "      <th>No</th>\n",
              "      <th>DEWP</th>\n",
              "      <th>TEMP</th>\n",
              "      <th>PRES</th>\n",
              "      <th>Iws</th>\n",
              "      <th>Is</th>\n",
              "      <th>Ir</th>\n",
              "      <th>datetime</th>\n",
              "      <th>cbwd_NW</th>\n",
              "      <th>cbwd_SE</th>\n",
              "      <th>cbwd_cv</th>\n",
              "      <th>pm2.5</th>\n",
              "    </tr>\n",
              "  </thead>\n",
              "  <tbody>\n",
              "    <tr>\n",
              "      <th>0</th>\n",
              "      <td>1</td>\n",
              "      <td>-1.580878</td>\n",
              "      <td>-1.922250</td>\n",
              "      <td>0.443328</td>\n",
              "      <td>-0.441894</td>\n",
              "      <td>-0.069353</td>\n",
              "      <td>-0.137667</td>\n",
              "      <td>2010-01-01 00:00:00</td>\n",
              "      <td>1.448138</td>\n",
              "      <td>-0.732019</td>\n",
              "      <td>-0.522096</td>\n",
              "      <td>NaN</td>\n",
              "    </tr>\n",
              "    <tr>\n",
              "      <th>1</th>\n",
              "      <td>2</td>\n",
              "      <td>-1.580878</td>\n",
              "      <td>-2.004228</td>\n",
              "      <td>0.345943</td>\n",
              "      <td>-0.379306</td>\n",
              "      <td>-0.069353</td>\n",
              "      <td>-0.137667</td>\n",
              "      <td>2010-01-01 01:00:00</td>\n",
              "      <td>1.448138</td>\n",
              "      <td>-0.732019</td>\n",
              "      <td>-0.522096</td>\n",
              "      <td>NaN</td>\n",
              "    </tr>\n",
              "    <tr>\n",
              "      <th>2</th>\n",
              "      <td>3</td>\n",
              "      <td>-1.580878</td>\n",
              "      <td>-1.922250</td>\n",
              "      <td>0.248559</td>\n",
              "      <td>-0.343514</td>\n",
              "      <td>-0.069353</td>\n",
              "      <td>-0.137667</td>\n",
              "      <td>2010-01-01 02:00:00</td>\n",
              "      <td>1.448138</td>\n",
              "      <td>-0.732019</td>\n",
              "      <td>-0.522096</td>\n",
              "      <td>NaN</td>\n",
              "    </tr>\n",
              "    <tr>\n",
              "      <th>3</th>\n",
              "      <td>4</td>\n",
              "      <td>-1.580878</td>\n",
              "      <td>-2.168183</td>\n",
              "      <td>0.248559</td>\n",
              "      <td>-0.280926</td>\n",
              "      <td>-0.069353</td>\n",
              "      <td>-0.137667</td>\n",
              "      <td>2010-01-01 03:00:00</td>\n",
              "      <td>1.448138</td>\n",
              "      <td>-0.732019</td>\n",
              "      <td>-0.522096</td>\n",
              "      <td>NaN</td>\n",
              "    </tr>\n",
              "    <tr>\n",
              "      <th>4</th>\n",
              "      <td>5</td>\n",
              "      <td>-1.511594</td>\n",
              "      <td>-2.004228</td>\n",
              "      <td>0.151174</td>\n",
              "      <td>-0.218339</td>\n",
              "      <td>-0.069353</td>\n",
              "      <td>-0.137667</td>\n",
              "      <td>2010-01-01 04:00:00</td>\n",
              "      <td>1.448138</td>\n",
              "      <td>-0.732019</td>\n",
              "      <td>-0.522096</td>\n",
              "      <td>NaN</td>\n",
              "    </tr>\n",
              "  </tbody>\n",
              "</table>\n",
              "</div>\n",
              "    <div class=\"colab-df-buttons\">\n",
              "\n",
              "  <div class=\"colab-df-container\">\n",
              "    <button class=\"colab-df-convert\" onclick=\"convertToInteractive('df-f393ba90-171c-40ad-adba-730c860202f4')\"\n",
              "            title=\"Convert this dataframe to an interactive table.\"\n",
              "            style=\"display:none;\">\n",
              "\n",
              "  <svg xmlns=\"http://www.w3.org/2000/svg\" height=\"24px\" viewBox=\"0 -960 960 960\">\n",
              "    <path d=\"M120-120v-720h720v720H120Zm60-500h600v-160H180v160Zm220 220h160v-160H400v160Zm0 220h160v-160H400v160ZM180-400h160v-160H180v160Zm440 0h160v-160H620v160ZM180-180h160v-160H180v160Zm440 0h160v-160H620v160Z\"/>\n",
              "  </svg>\n",
              "    </button>\n",
              "\n",
              "  <style>\n",
              "    .colab-df-container {\n",
              "      display:flex;\n",
              "      gap: 12px;\n",
              "    }\n",
              "\n",
              "    .colab-df-convert {\n",
              "      background-color: #E8F0FE;\n",
              "      border: none;\n",
              "      border-radius: 50%;\n",
              "      cursor: pointer;\n",
              "      display: none;\n",
              "      fill: #1967D2;\n",
              "      height: 32px;\n",
              "      padding: 0 0 0 0;\n",
              "      width: 32px;\n",
              "    }\n",
              "\n",
              "    .colab-df-convert:hover {\n",
              "      background-color: #E2EBFA;\n",
              "      box-shadow: 0px 1px 2px rgba(60, 64, 67, 0.3), 0px 1px 3px 1px rgba(60, 64, 67, 0.15);\n",
              "      fill: #174EA6;\n",
              "    }\n",
              "\n",
              "    .colab-df-buttons div {\n",
              "      margin-bottom: 4px;\n",
              "    }\n",
              "\n",
              "    [theme=dark] .colab-df-convert {\n",
              "      background-color: #3B4455;\n",
              "      fill: #D2E3FC;\n",
              "    }\n",
              "\n",
              "    [theme=dark] .colab-df-convert:hover {\n",
              "      background-color: #434B5C;\n",
              "      box-shadow: 0px 1px 3px 1px rgba(0, 0, 0, 0.15);\n",
              "      filter: drop-shadow(0px 1px 2px rgba(0, 0, 0, 0.3));\n",
              "      fill: #FFFFFF;\n",
              "    }\n",
              "  </style>\n",
              "\n",
              "    <script>\n",
              "      const buttonEl =\n",
              "        document.querySelector('#df-f393ba90-171c-40ad-adba-730c860202f4 button.colab-df-convert');\n",
              "      buttonEl.style.display =\n",
              "        google.colab.kernel.accessAllowed ? 'block' : 'none';\n",
              "\n",
              "      async function convertToInteractive(key) {\n",
              "        const element = document.querySelector('#df-f393ba90-171c-40ad-adba-730c860202f4');\n",
              "        const dataTable =\n",
              "          await google.colab.kernel.invokeFunction('convertToInteractive',\n",
              "                                                    [key], {});\n",
              "        if (!dataTable) return;\n",
              "\n",
              "        const docLinkHtml = 'Like what you see? Visit the ' +\n",
              "          '<a target=\"_blank\" href=https://colab.research.google.com/notebooks/data_table.ipynb>data table notebook</a>'\n",
              "          + ' to learn more about interactive tables.';\n",
              "        element.innerHTML = '';\n",
              "        dataTable['output_type'] = 'display_data';\n",
              "        await google.colab.output.renderOutput(dataTable, element);\n",
              "        const docLink = document.createElement('div');\n",
              "        docLink.innerHTML = docLinkHtml;\n",
              "        element.appendChild(docLink);\n",
              "      }\n",
              "    </script>\n",
              "  </div>\n",
              "\n",
              "\n",
              "    <div id=\"df-1de3892f-51f8-4e21-a4ef-4e8e18017187\">\n",
              "      <button class=\"colab-df-quickchart\" onclick=\"quickchart('df-1de3892f-51f8-4e21-a4ef-4e8e18017187')\"\n",
              "                title=\"Suggest charts\"\n",
              "                style=\"display:none;\">\n",
              "\n",
              "<svg xmlns=\"http://www.w3.org/2000/svg\" height=\"24px\"viewBox=\"0 0 24 24\"\n",
              "     width=\"24px\">\n",
              "    <g>\n",
              "        <path d=\"M19 3H5c-1.1 0-2 .9-2 2v14c0 1.1.9 2 2 2h14c1.1 0 2-.9 2-2V5c0-1.1-.9-2-2-2zM9 17H7v-7h2v7zm4 0h-2V7h2v10zm4 0h-2v-4h2v4z\"/>\n",
              "    </g>\n",
              "</svg>\n",
              "      </button>\n",
              "\n",
              "<style>\n",
              "  .colab-df-quickchart {\n",
              "      --bg-color: #E8F0FE;\n",
              "      --fill-color: #1967D2;\n",
              "      --hover-bg-color: #E2EBFA;\n",
              "      --hover-fill-color: #174EA6;\n",
              "      --disabled-fill-color: #AAA;\n",
              "      --disabled-bg-color: #DDD;\n",
              "  }\n",
              "\n",
              "  [theme=dark] .colab-df-quickchart {\n",
              "      --bg-color: #3B4455;\n",
              "      --fill-color: #D2E3FC;\n",
              "      --hover-bg-color: #434B5C;\n",
              "      --hover-fill-color: #FFFFFF;\n",
              "      --disabled-bg-color: #3B4455;\n",
              "      --disabled-fill-color: #666;\n",
              "  }\n",
              "\n",
              "  .colab-df-quickchart {\n",
              "    background-color: var(--bg-color);\n",
              "    border: none;\n",
              "    border-radius: 50%;\n",
              "    cursor: pointer;\n",
              "    display: none;\n",
              "    fill: var(--fill-color);\n",
              "    height: 32px;\n",
              "    padding: 0;\n",
              "    width: 32px;\n",
              "  }\n",
              "\n",
              "  .colab-df-quickchart:hover {\n",
              "    background-color: var(--hover-bg-color);\n",
              "    box-shadow: 0 1px 2px rgba(60, 64, 67, 0.3), 0 1px 3px 1px rgba(60, 64, 67, 0.15);\n",
              "    fill: var(--button-hover-fill-color);\n",
              "  }\n",
              "\n",
              "  .colab-df-quickchart-complete:disabled,\n",
              "  .colab-df-quickchart-complete:disabled:hover {\n",
              "    background-color: var(--disabled-bg-color);\n",
              "    fill: var(--disabled-fill-color);\n",
              "    box-shadow: none;\n",
              "  }\n",
              "\n",
              "  .colab-df-spinner {\n",
              "    border: 2px solid var(--fill-color);\n",
              "    border-color: transparent;\n",
              "    border-bottom-color: var(--fill-color);\n",
              "    animation:\n",
              "      spin 1s steps(1) infinite;\n",
              "  }\n",
              "\n",
              "  @keyframes spin {\n",
              "    0% {\n",
              "      border-color: transparent;\n",
              "      border-bottom-color: var(--fill-color);\n",
              "      border-left-color: var(--fill-color);\n",
              "    }\n",
              "    20% {\n",
              "      border-color: transparent;\n",
              "      border-left-color: var(--fill-color);\n",
              "      border-top-color: var(--fill-color);\n",
              "    }\n",
              "    30% {\n",
              "      border-color: transparent;\n",
              "      border-left-color: var(--fill-color);\n",
              "      border-top-color: var(--fill-color);\n",
              "      border-right-color: var(--fill-color);\n",
              "    }\n",
              "    40% {\n",
              "      border-color: transparent;\n",
              "      border-right-color: var(--fill-color);\n",
              "      border-top-color: var(--fill-color);\n",
              "    }\n",
              "    60% {\n",
              "      border-color: transparent;\n",
              "      border-right-color: var(--fill-color);\n",
              "    }\n",
              "    80% {\n",
              "      border-color: transparent;\n",
              "      border-right-color: var(--fill-color);\n",
              "      border-bottom-color: var(--fill-color);\n",
              "    }\n",
              "    90% {\n",
              "      border-color: transparent;\n",
              "      border-bottom-color: var(--fill-color);\n",
              "    }\n",
              "  }\n",
              "</style>\n",
              "\n",
              "      <script>\n",
              "        async function quickchart(key) {\n",
              "          const quickchartButtonEl =\n",
              "            document.querySelector('#' + key + ' button');\n",
              "          quickchartButtonEl.disabled = true;  // To prevent multiple clicks.\n",
              "          quickchartButtonEl.classList.add('colab-df-spinner');\n",
              "          try {\n",
              "            const charts = await google.colab.kernel.invokeFunction(\n",
              "                'suggestCharts', [key], {});\n",
              "          } catch (error) {\n",
              "            console.error('Error during call to suggestCharts:', error);\n",
              "          }\n",
              "          quickchartButtonEl.classList.remove('colab-df-spinner');\n",
              "          quickchartButtonEl.classList.add('colab-df-quickchart-complete');\n",
              "        }\n",
              "        (() => {\n",
              "          let quickchartButtonEl =\n",
              "            document.querySelector('#df-1de3892f-51f8-4e21-a4ef-4e8e18017187 button');\n",
              "          quickchartButtonEl.style.display =\n",
              "            google.colab.kernel.accessAllowed ? 'block' : 'none';\n",
              "        })();\n",
              "      </script>\n",
              "    </div>\n",
              "\n",
              "    </div>\n",
              "  </div>\n"
            ],
            "application/vnd.google.colaboratory.intrinsic+json": {
              "type": "dataframe",
              "summary": "{\n  \"name\": \"display(train\",\n  \"rows\": 5,\n  \"fields\": [\n    {\n      \"column\": \"No\",\n      \"properties\": {\n        \"dtype\": \"number\",\n        \"std\": 1,\n        \"min\": 1,\n        \"max\": 5,\n        \"num_unique_values\": 5,\n        \"samples\": [\n          2,\n          5,\n          3\n        ],\n        \"semantic_type\": \"\",\n        \"description\": \"\"\n      }\n    },\n    {\n      \"column\": \"DEWP\",\n      \"properties\": {\n        \"dtype\": \"number\",\n        \"std\": 0.0309848996305301,\n        \"min\": -1.5808778897952718,\n        \"max\": -1.5115935479453984,\n        \"num_unique_values\": 2,\n        \"samples\": [\n          -1.5115935479453984,\n          -1.5808778897952718\n        ],\n        \"semantic_type\": \"\",\n        \"description\": \"\"\n      }\n    },\n    {\n      \"column\": \"TEMP\",\n      \"properties\": {\n        \"dtype\": \"number\",\n        \"std\": 0.10040148549652131,\n        \"min\": -2.168182856343389,\n        \"max\": -1.922250447459466,\n        \"num_unique_values\": 3,\n        \"samples\": [\n          -1.922250447459466,\n          -2.00422791708744\n        ],\n        \"semantic_type\": \"\",\n        \"description\": \"\"\n      }\n    },\n    {\n      \"column\": \"PRES\",\n      \"properties\": {\n        \"dtype\": \"number\",\n        \"std\": 0.11103534626897563,\n        \"min\": 0.1511743225744921,\n        \"max\": 0.4433276451897058,\n        \"num_unique_values\": 4,\n        \"samples\": [\n          0.3459432043179679,\n          0.1511743225744921\n        ],\n        \"semantic_type\": \"\",\n        \"description\": \"\"\n      }\n    },\n    {\n      \"column\": \"Iws\",\n      \"properties\": {\n        \"dtype\": \"number\",\n        \"std\": 0.08656116541245937,\n        \"min\": -0.4418938451785167,\n        \"max\": -0.218338842673557,\n        \"num_unique_values\": 5,\n        \"samples\": [\n          -0.3793064428671997,\n          -0.218338842673557\n        ],\n        \"semantic_type\": \"\",\n        \"description\": \"\"\n      }\n    },\n    {\n      \"column\": \"Is\",\n      \"properties\": {\n        \"dtype\": \"number\",\n        \"std\": 0.0,\n        \"min\": -0.0693529927507349,\n        \"max\": -0.0693529927507349,\n        \"num_unique_values\": 1,\n        \"samples\": [\n          -0.0693529927507349\n        ],\n        \"semantic_type\": \"\",\n        \"description\": \"\"\n      }\n    },\n    {\n      \"column\": \"Ir\",\n      \"properties\": {\n        \"dtype\": \"number\",\n        \"std\": 0.0,\n        \"min\": -0.1376670916056331,\n        \"max\": -0.1376670916056331,\n        \"num_unique_values\": 1,\n        \"samples\": [\n          -0.1376670916056331\n        ],\n        \"semantic_type\": \"\",\n        \"description\": \"\"\n      }\n    },\n    {\n      \"column\": \"datetime\",\n      \"properties\": {\n        \"dtype\": \"object\",\n        \"num_unique_values\": 5,\n        \"samples\": [\n          \"2010-01-01 01:00:00\"\n        ],\n        \"semantic_type\": \"\",\n        \"description\": \"\"\n      }\n    },\n    {\n      \"column\": \"cbwd_NW\",\n      \"properties\": {\n        \"dtype\": \"number\",\n        \"std\": 0.0,\n        \"min\": 1.4481375879032463,\n        \"max\": 1.4481375879032463,\n        \"num_unique_values\": 1,\n        \"samples\": [\n          1.4481375879032463\n        ],\n        \"semantic_type\": \"\",\n        \"description\": \"\"\n      }\n    },\n    {\n      \"column\": \"cbwd_SE\",\n      \"properties\": {\n        \"dtype\": \"number\",\n        \"std\": 0.0,\n        \"min\": -0.7320191022613816,\n        \"max\": -0.7320191022613816,\n        \"num_unique_values\": 1,\n        \"samples\": [\n          -0.7320191022613816\n        ],\n        \"semantic_type\": \"\",\n        \"description\": \"\"\n      }\n    },\n    {\n      \"column\": \"cbwd_cv\",\n      \"properties\": {\n        \"dtype\": \"number\",\n        \"std\": 0.0,\n        \"min\": -0.5220964661088392,\n        \"max\": -0.5220964661088392,\n        \"num_unique_values\": 1,\n        \"samples\": [\n          -0.5220964661088392\n        ],\n        \"semantic_type\": \"\",\n        \"description\": \"\"\n      }\n    },\n    {\n      \"column\": \"pm2.5\",\n      \"properties\": {\n        \"dtype\": \"number\",\n        \"std\": null,\n        \"min\": null,\n        \"max\": null,\n        \"num_unique_values\": 0,\n        \"samples\": [],\n        \"semantic_type\": \"\",\n        \"description\": \"\"\n      }\n    }\n  ]\n}"
            }
          },
          "metadata": {}
        },
        {
          "output_type": "display_data",
          "data": {
            "text/plain": [
              "            count unique                  top freq        mean          std  \\\n",
              "No        30676.0    NaN                  NaN  NaN     15338.5  8855.542765   \n",
              "DEWP      30676.0    NaN                  NaN  NaN   -0.029431     0.994087   \n",
              "TEMP      30676.0    NaN                  NaN  NaN   -0.062712     1.015193   \n",
              "PRES      30676.0    NaN                  NaN  NaN    0.013612     1.008991   \n",
              "Iws       30676.0    NaN                  NaN  NaN    0.030542     1.018337   \n",
              "Is        30676.0    NaN                  NaN  NaN    0.016992     1.087278   \n",
              "Ir        30676.0    NaN                  NaN  NaN    0.011253     1.063811   \n",
              "datetime    30676  30676  2013-07-02 03:00:00    1         NaN          NaN   \n",
              "cbwd_NW   30676.0    NaN                  NaN  NaN    0.016193     1.006001   \n",
              "cbwd_SE   30676.0    NaN                  NaN  NaN    0.005833     1.001847   \n",
              "cbwd_cv   30676.0    NaN                  NaN  NaN   -0.025008     0.982122   \n",
              "pm2.5     28755.0    NaN                  NaN  NaN  100.793427    93.144433   \n",
              "\n",
              "               min       25%       50%       75%        max  \n",
              "No             1.0   7669.75   15338.5  23007.25    30676.0  \n",
              "DEWP     -2.135153 -0.888034 -0.056622  0.913358   1.814055  \n",
              "TEMP      -2.57807 -0.938521  0.045209  0.864984   2.340578  \n",
              "PRES     -2.380821  -0.82267 -0.043595  0.832865   2.877939  \n",
              "Iws      -0.468688 -0.441894 -0.352512  0.005216  11.231956  \n",
              "Is       -0.069353 -0.069353 -0.069353 -0.069353  35.439859  \n",
              "Ir       -0.137667 -0.137667 -0.137667 -0.137667  25.288745  \n",
              "datetime       NaN       NaN       NaN       NaN        NaN  \n",
              "cbwd_NW  -0.690542 -0.690542 -0.690542  1.448138   1.448138  \n",
              "cbwd_SE  -0.732019 -0.732019 -0.732019  1.366085   1.366085  \n",
              "cbwd_cv  -0.522096 -0.522096 -0.522096 -0.522096   1.915355  \n",
              "pm2.5          0.0      29.0      75.0     142.0      994.0  "
            ],
            "text/html": [
              "\n",
              "  <div id=\"df-24c43980-75a1-4c17-92f8-05aee760b73d\" class=\"colab-df-container\">\n",
              "    <div>\n",
              "<style scoped>\n",
              "    .dataframe tbody tr th:only-of-type {\n",
              "        vertical-align: middle;\n",
              "    }\n",
              "\n",
              "    .dataframe tbody tr th {\n",
              "        vertical-align: top;\n",
              "    }\n",
              "\n",
              "    .dataframe thead th {\n",
              "        text-align: right;\n",
              "    }\n",
              "</style>\n",
              "<table border=\"1\" class=\"dataframe\">\n",
              "  <thead>\n",
              "    <tr style=\"text-align: right;\">\n",
              "      <th></th>\n",
              "      <th>count</th>\n",
              "      <th>unique</th>\n",
              "      <th>top</th>\n",
              "      <th>freq</th>\n",
              "      <th>mean</th>\n",
              "      <th>std</th>\n",
              "      <th>min</th>\n",
              "      <th>25%</th>\n",
              "      <th>50%</th>\n",
              "      <th>75%</th>\n",
              "      <th>max</th>\n",
              "    </tr>\n",
              "  </thead>\n",
              "  <tbody>\n",
              "    <tr>\n",
              "      <th>No</th>\n",
              "      <td>30676.0</td>\n",
              "      <td>NaN</td>\n",
              "      <td>NaN</td>\n",
              "      <td>NaN</td>\n",
              "      <td>15338.5</td>\n",
              "      <td>8855.542765</td>\n",
              "      <td>1.0</td>\n",
              "      <td>7669.75</td>\n",
              "      <td>15338.5</td>\n",
              "      <td>23007.25</td>\n",
              "      <td>30676.0</td>\n",
              "    </tr>\n",
              "    <tr>\n",
              "      <th>DEWP</th>\n",
              "      <td>30676.0</td>\n",
              "      <td>NaN</td>\n",
              "      <td>NaN</td>\n",
              "      <td>NaN</td>\n",
              "      <td>-0.029431</td>\n",
              "      <td>0.994087</td>\n",
              "      <td>-2.135153</td>\n",
              "      <td>-0.888034</td>\n",
              "      <td>-0.056622</td>\n",
              "      <td>0.913358</td>\n",
              "      <td>1.814055</td>\n",
              "    </tr>\n",
              "    <tr>\n",
              "      <th>TEMP</th>\n",
              "      <td>30676.0</td>\n",
              "      <td>NaN</td>\n",
              "      <td>NaN</td>\n",
              "      <td>NaN</td>\n",
              "      <td>-0.062712</td>\n",
              "      <td>1.015193</td>\n",
              "      <td>-2.57807</td>\n",
              "      <td>-0.938521</td>\n",
              "      <td>0.045209</td>\n",
              "      <td>0.864984</td>\n",
              "      <td>2.340578</td>\n",
              "    </tr>\n",
              "    <tr>\n",
              "      <th>PRES</th>\n",
              "      <td>30676.0</td>\n",
              "      <td>NaN</td>\n",
              "      <td>NaN</td>\n",
              "      <td>NaN</td>\n",
              "      <td>0.013612</td>\n",
              "      <td>1.008991</td>\n",
              "      <td>-2.380821</td>\n",
              "      <td>-0.82267</td>\n",
              "      <td>-0.043595</td>\n",
              "      <td>0.832865</td>\n",
              "      <td>2.877939</td>\n",
              "    </tr>\n",
              "    <tr>\n",
              "      <th>Iws</th>\n",
              "      <td>30676.0</td>\n",
              "      <td>NaN</td>\n",
              "      <td>NaN</td>\n",
              "      <td>NaN</td>\n",
              "      <td>0.030542</td>\n",
              "      <td>1.018337</td>\n",
              "      <td>-0.468688</td>\n",
              "      <td>-0.441894</td>\n",
              "      <td>-0.352512</td>\n",
              "      <td>0.005216</td>\n",
              "      <td>11.231956</td>\n",
              "    </tr>\n",
              "    <tr>\n",
              "      <th>Is</th>\n",
              "      <td>30676.0</td>\n",
              "      <td>NaN</td>\n",
              "      <td>NaN</td>\n",
              "      <td>NaN</td>\n",
              "      <td>0.016992</td>\n",
              "      <td>1.087278</td>\n",
              "      <td>-0.069353</td>\n",
              "      <td>-0.069353</td>\n",
              "      <td>-0.069353</td>\n",
              "      <td>-0.069353</td>\n",
              "      <td>35.439859</td>\n",
              "    </tr>\n",
              "    <tr>\n",
              "      <th>Ir</th>\n",
              "      <td>30676.0</td>\n",
              "      <td>NaN</td>\n",
              "      <td>NaN</td>\n",
              "      <td>NaN</td>\n",
              "      <td>0.011253</td>\n",
              "      <td>1.063811</td>\n",
              "      <td>-0.137667</td>\n",
              "      <td>-0.137667</td>\n",
              "      <td>-0.137667</td>\n",
              "      <td>-0.137667</td>\n",
              "      <td>25.288745</td>\n",
              "    </tr>\n",
              "    <tr>\n",
              "      <th>datetime</th>\n",
              "      <td>30676</td>\n",
              "      <td>30676</td>\n",
              "      <td>2013-07-02 03:00:00</td>\n",
              "      <td>1</td>\n",
              "      <td>NaN</td>\n",
              "      <td>NaN</td>\n",
              "      <td>NaN</td>\n",
              "      <td>NaN</td>\n",
              "      <td>NaN</td>\n",
              "      <td>NaN</td>\n",
              "      <td>NaN</td>\n",
              "    </tr>\n",
              "    <tr>\n",
              "      <th>cbwd_NW</th>\n",
              "      <td>30676.0</td>\n",
              "      <td>NaN</td>\n",
              "      <td>NaN</td>\n",
              "      <td>NaN</td>\n",
              "      <td>0.016193</td>\n",
              "      <td>1.006001</td>\n",
              "      <td>-0.690542</td>\n",
              "      <td>-0.690542</td>\n",
              "      <td>-0.690542</td>\n",
              "      <td>1.448138</td>\n",
              "      <td>1.448138</td>\n",
              "    </tr>\n",
              "    <tr>\n",
              "      <th>cbwd_SE</th>\n",
              "      <td>30676.0</td>\n",
              "      <td>NaN</td>\n",
              "      <td>NaN</td>\n",
              "      <td>NaN</td>\n",
              "      <td>0.005833</td>\n",
              "      <td>1.001847</td>\n",
              "      <td>-0.732019</td>\n",
              "      <td>-0.732019</td>\n",
              "      <td>-0.732019</td>\n",
              "      <td>1.366085</td>\n",
              "      <td>1.366085</td>\n",
              "    </tr>\n",
              "    <tr>\n",
              "      <th>cbwd_cv</th>\n",
              "      <td>30676.0</td>\n",
              "      <td>NaN</td>\n",
              "      <td>NaN</td>\n",
              "      <td>NaN</td>\n",
              "      <td>-0.025008</td>\n",
              "      <td>0.982122</td>\n",
              "      <td>-0.522096</td>\n",
              "      <td>-0.522096</td>\n",
              "      <td>-0.522096</td>\n",
              "      <td>-0.522096</td>\n",
              "      <td>1.915355</td>\n",
              "    </tr>\n",
              "    <tr>\n",
              "      <th>pm2.5</th>\n",
              "      <td>28755.0</td>\n",
              "      <td>NaN</td>\n",
              "      <td>NaN</td>\n",
              "      <td>NaN</td>\n",
              "      <td>100.793427</td>\n",
              "      <td>93.144433</td>\n",
              "      <td>0.0</td>\n",
              "      <td>29.0</td>\n",
              "      <td>75.0</td>\n",
              "      <td>142.0</td>\n",
              "      <td>994.0</td>\n",
              "    </tr>\n",
              "  </tbody>\n",
              "</table>\n",
              "</div>\n",
              "    <div class=\"colab-df-buttons\">\n",
              "\n",
              "  <div class=\"colab-df-container\">\n",
              "    <button class=\"colab-df-convert\" onclick=\"convertToInteractive('df-24c43980-75a1-4c17-92f8-05aee760b73d')\"\n",
              "            title=\"Convert this dataframe to an interactive table.\"\n",
              "            style=\"display:none;\">\n",
              "\n",
              "  <svg xmlns=\"http://www.w3.org/2000/svg\" height=\"24px\" viewBox=\"0 -960 960 960\">\n",
              "    <path d=\"M120-120v-720h720v720H120Zm60-500h600v-160H180v160Zm220 220h160v-160H400v160Zm0 220h160v-160H400v160ZM180-400h160v-160H180v160Zm440 0h160v-160H620v160ZM180-180h160v-160H180v160Zm440 0h160v-160H620v160Z\"/>\n",
              "  </svg>\n",
              "    </button>\n",
              "\n",
              "  <style>\n",
              "    .colab-df-container {\n",
              "      display:flex;\n",
              "      gap: 12px;\n",
              "    }\n",
              "\n",
              "    .colab-df-convert {\n",
              "      background-color: #E8F0FE;\n",
              "      border: none;\n",
              "      border-radius: 50%;\n",
              "      cursor: pointer;\n",
              "      display: none;\n",
              "      fill: #1967D2;\n",
              "      height: 32px;\n",
              "      padding: 0 0 0 0;\n",
              "      width: 32px;\n",
              "    }\n",
              "\n",
              "    .colab-df-convert:hover {\n",
              "      background-color: #E2EBFA;\n",
              "      box-shadow: 0px 1px 2px rgba(60, 64, 67, 0.3), 0px 1px 3px 1px rgba(60, 64, 67, 0.15);\n",
              "      fill: #174EA6;\n",
              "    }\n",
              "\n",
              "    .colab-df-buttons div {\n",
              "      margin-bottom: 4px;\n",
              "    }\n",
              "\n",
              "    [theme=dark] .colab-df-convert {\n",
              "      background-color: #3B4455;\n",
              "      fill: #D2E3FC;\n",
              "    }\n",
              "\n",
              "    [theme=dark] .colab-df-convert:hover {\n",
              "      background-color: #434B5C;\n",
              "      box-shadow: 0px 1px 3px 1px rgba(0, 0, 0, 0.15);\n",
              "      filter: drop-shadow(0px 1px 2px rgba(0, 0, 0, 0.3));\n",
              "      fill: #FFFFFF;\n",
              "    }\n",
              "  </style>\n",
              "\n",
              "    <script>\n",
              "      const buttonEl =\n",
              "        document.querySelector('#df-24c43980-75a1-4c17-92f8-05aee760b73d button.colab-df-convert');\n",
              "      buttonEl.style.display =\n",
              "        google.colab.kernel.accessAllowed ? 'block' : 'none';\n",
              "\n",
              "      async function convertToInteractive(key) {\n",
              "        const element = document.querySelector('#df-24c43980-75a1-4c17-92f8-05aee760b73d');\n",
              "        const dataTable =\n",
              "          await google.colab.kernel.invokeFunction('convertToInteractive',\n",
              "                                                    [key], {});\n",
              "        if (!dataTable) return;\n",
              "\n",
              "        const docLinkHtml = 'Like what you see? Visit the ' +\n",
              "          '<a target=\"_blank\" href=https://colab.research.google.com/notebooks/data_table.ipynb>data table notebook</a>'\n",
              "          + ' to learn more about interactive tables.';\n",
              "        element.innerHTML = '';\n",
              "        dataTable['output_type'] = 'display_data';\n",
              "        await google.colab.output.renderOutput(dataTable, element);\n",
              "        const docLink = document.createElement('div');\n",
              "        docLink.innerHTML = docLinkHtml;\n",
              "        element.appendChild(docLink);\n",
              "      }\n",
              "    </script>\n",
              "  </div>\n",
              "\n",
              "\n",
              "    <div id=\"df-93572436-6a92-450f-8d9e-33a73f96bb41\">\n",
              "      <button class=\"colab-df-quickchart\" onclick=\"quickchart('df-93572436-6a92-450f-8d9e-33a73f96bb41')\"\n",
              "                title=\"Suggest charts\"\n",
              "                style=\"display:none;\">\n",
              "\n",
              "<svg xmlns=\"http://www.w3.org/2000/svg\" height=\"24px\"viewBox=\"0 0 24 24\"\n",
              "     width=\"24px\">\n",
              "    <g>\n",
              "        <path d=\"M19 3H5c-1.1 0-2 .9-2 2v14c0 1.1.9 2 2 2h14c1.1 0 2-.9 2-2V5c0-1.1-.9-2-2-2zM9 17H7v-7h2v7zm4 0h-2V7h2v10zm4 0h-2v-4h2v4z\"/>\n",
              "    </g>\n",
              "</svg>\n",
              "      </button>\n",
              "\n",
              "<style>\n",
              "  .colab-df-quickchart {\n",
              "      --bg-color: #E8F0FE;\n",
              "      --fill-color: #1967D2;\n",
              "      --hover-bg-color: #E2EBFA;\n",
              "      --hover-fill-color: #174EA6;\n",
              "      --disabled-fill-color: #AAA;\n",
              "      --disabled-bg-color: #DDD;\n",
              "  }\n",
              "\n",
              "  [theme=dark] .colab-df-quickchart {\n",
              "      --bg-color: #3B4455;\n",
              "      --fill-color: #D2E3FC;\n",
              "      --hover-bg-color: #434B5C;\n",
              "      --hover-fill-color: #FFFFFF;\n",
              "      --disabled-bg-color: #3B4455;\n",
              "      --disabled-fill-color: #666;\n",
              "  }\n",
              "\n",
              "  .colab-df-quickchart {\n",
              "    background-color: var(--bg-color);\n",
              "    border: none;\n",
              "    border-radius: 50%;\n",
              "    cursor: pointer;\n",
              "    display: none;\n",
              "    fill: var(--fill-color);\n",
              "    height: 32px;\n",
              "    padding: 0;\n",
              "    width: 32px;\n",
              "  }\n",
              "\n",
              "  .colab-df-quickchart:hover {\n",
              "    background-color: var(--hover-bg-color);\n",
              "    box-shadow: 0 1px 2px rgba(60, 64, 67, 0.3), 0 1px 3px 1px rgba(60, 64, 67, 0.15);\n",
              "    fill: var(--button-hover-fill-color);\n",
              "  }\n",
              "\n",
              "  .colab-df-quickchart-complete:disabled,\n",
              "  .colab-df-quickchart-complete:disabled:hover {\n",
              "    background-color: var(--disabled-bg-color);\n",
              "    fill: var(--disabled-fill-color);\n",
              "    box-shadow: none;\n",
              "  }\n",
              "\n",
              "  .colab-df-spinner {\n",
              "    border: 2px solid var(--fill-color);\n",
              "    border-color: transparent;\n",
              "    border-bottom-color: var(--fill-color);\n",
              "    animation:\n",
              "      spin 1s steps(1) infinite;\n",
              "  }\n",
              "\n",
              "  @keyframes spin {\n",
              "    0% {\n",
              "      border-color: transparent;\n",
              "      border-bottom-color: var(--fill-color);\n",
              "      border-left-color: var(--fill-color);\n",
              "    }\n",
              "    20% {\n",
              "      border-color: transparent;\n",
              "      border-left-color: var(--fill-color);\n",
              "      border-top-color: var(--fill-color);\n",
              "    }\n",
              "    30% {\n",
              "      border-color: transparent;\n",
              "      border-left-color: var(--fill-color);\n",
              "      border-top-color: var(--fill-color);\n",
              "      border-right-color: var(--fill-color);\n",
              "    }\n",
              "    40% {\n",
              "      border-color: transparent;\n",
              "      border-right-color: var(--fill-color);\n",
              "      border-top-color: var(--fill-color);\n",
              "    }\n",
              "    60% {\n",
              "      border-color: transparent;\n",
              "      border-right-color: var(--fill-color);\n",
              "    }\n",
              "    80% {\n",
              "      border-color: transparent;\n",
              "      border-right-color: var(--fill-color);\n",
              "      border-bottom-color: var(--fill-color);\n",
              "    }\n",
              "    90% {\n",
              "      border-color: transparent;\n",
              "      border-bottom-color: var(--fill-color);\n",
              "    }\n",
              "  }\n",
              "</style>\n",
              "\n",
              "      <script>\n",
              "        async function quickchart(key) {\n",
              "          const quickchartButtonEl =\n",
              "            document.querySelector('#' + key + ' button');\n",
              "          quickchartButtonEl.disabled = true;  // To prevent multiple clicks.\n",
              "          quickchartButtonEl.classList.add('colab-df-spinner');\n",
              "          try {\n",
              "            const charts = await google.colab.kernel.invokeFunction(\n",
              "                'suggestCharts', [key], {});\n",
              "          } catch (error) {\n",
              "            console.error('Error during call to suggestCharts:', error);\n",
              "          }\n",
              "          quickchartButtonEl.classList.remove('colab-df-spinner');\n",
              "          quickchartButtonEl.classList.add('colab-df-quickchart-complete');\n",
              "        }\n",
              "        (() => {\n",
              "          let quickchartButtonEl =\n",
              "            document.querySelector('#df-93572436-6a92-450f-8d9e-33a73f96bb41 button');\n",
              "          quickchartButtonEl.style.display =\n",
              "            google.colab.kernel.accessAllowed ? 'block' : 'none';\n",
              "        })();\n",
              "      </script>\n",
              "    </div>\n",
              "\n",
              "    </div>\n",
              "  </div>\n"
            ],
            "application/vnd.google.colaboratory.intrinsic+json": {
              "type": "dataframe",
              "summary": "{\n  \"name\": \"display(train\",\n  \"rows\": 12,\n  \"fields\": [\n    {\n      \"column\": \"count\",\n      \"properties\": {\n        \"dtype\": \"date\",\n        \"min\": 28755.0,\n        \"max\": 30676.0,\n        \"num_unique_values\": 2,\n        \"samples\": [\n          28755.0,\n          30676.0\n        ],\n        \"semantic_type\": \"\",\n        \"description\": \"\"\n      }\n    },\n    {\n      \"column\": \"unique\",\n      \"properties\": {\n        \"dtype\": \"date\",\n        \"min\": 30676,\n        \"max\": 30676,\n        \"num_unique_values\": 1,\n        \"samples\": [\n          30676\n        ],\n        \"semantic_type\": \"\",\n        \"description\": \"\"\n      }\n    },\n    {\n      \"column\": \"top\",\n      \"properties\": {\n        \"dtype\": \"date\",\n        \"min\": \"2013-07-02 03:00:00\",\n        \"max\": \"2013-07-02 03:00:00\",\n        \"num_unique_values\": 1,\n        \"samples\": [\n          \"2013-07-02 03:00:00\"\n        ],\n        \"semantic_type\": \"\",\n        \"description\": \"\"\n      }\n    },\n    {\n      \"column\": \"freq\",\n      \"properties\": {\n        \"dtype\": \"date\",\n        \"min\": \"1\",\n        \"max\": \"1\",\n        \"num_unique_values\": 1,\n        \"samples\": [\n          \"1\"\n        ],\n        \"semantic_type\": \"\",\n        \"description\": \"\"\n      }\n    },\n    {\n      \"column\": \"mean\",\n      \"properties\": {\n        \"dtype\": \"date\",\n        \"min\": -0.06271196571707388,\n        \"max\": 15338.5,\n        \"num_unique_values\": 11,\n        \"samples\": [\n          0.0169921701578907\n        ],\n        \"semantic_type\": \"\",\n        \"description\": \"\"\n      }\n    },\n    {\n      \"column\": \"std\",\n      \"properties\": {\n        \"dtype\": \"date\",\n        \"min\": 0.9821221372732125,\n        \"max\": 8855.54276522149,\n        \"num_unique_values\": 11,\n        \"samples\": [\n          1.0872775725916504\n        ],\n        \"semantic_type\": \"\",\n        \"description\": \"\"\n      }\n    },\n    {\n      \"column\": \"min\",\n      \"properties\": {\n        \"dtype\": \"date\",\n        \"min\": -2.57807020448326,\n        \"max\": 1.0,\n        \"num_unique_values\": 11,\n        \"samples\": [\n          -0.0693529927507349\n        ],\n        \"semantic_type\": \"\",\n        \"description\": \"\"\n      }\n    },\n    {\n      \"column\": \"25%\",\n      \"properties\": {\n        \"dtype\": \"date\",\n        \"min\": -0.9385208119237748,\n        \"max\": 7669.75,\n        \"num_unique_values\": 11,\n        \"samples\": [\n          -0.0693529927507349\n        ],\n        \"semantic_type\": \"\",\n        \"description\": \"\"\n      }\n    },\n    {\n      \"column\": \"50%\",\n      \"properties\": {\n        \"dtype\": \"date\",\n        \"min\": -0.7320191022613816,\n        \"max\": 15338.5,\n        \"num_unique_values\": 11,\n        \"samples\": [\n          -0.0693529927507349\n        ],\n        \"semantic_type\": \"\",\n        \"description\": \"\"\n      }\n    },\n    {\n      \"column\": \"75%\",\n      \"properties\": {\n        \"dtype\": \"date\",\n        \"min\": -0.5220964661088392,\n        \"max\": 23007.25,\n        \"num_unique_values\": 11,\n        \"samples\": [\n          -0.0693529927507349\n        ],\n        \"semantic_type\": \"\",\n        \"description\": \"\"\n      }\n    },\n    {\n      \"column\": \"max\",\n      \"properties\": {\n        \"dtype\": \"date\",\n        \"min\": 1.3660845692561323,\n        \"max\": 30676.0,\n        \"num_unique_values\": 11,\n        \"samples\": [\n          35.439859454813806\n        ],\n        \"semantic_type\": \"\",\n        \"description\": \"\"\n      }\n    }\n  ]\n}"
            }
          },
          "metadata": {}
        }
      ],
      "source": [
        "print(\"Training Data Shape:\", train.shape)\n",
        "print(\"Test Data Shape:\", test.shape)\n",
        "print(\"Columns:\", list(train.columns))\n",
        "display(train.head())\n",
        "display(train.describe(include='all').T)"
      ]
    },
    {
      "cell_type": "markdown",
      "source": [
        "Visual quick check of pm2.5 distribution"
      ],
      "metadata": {
        "id": "4CX8v1t2rkTf"
      }
    },
    {
      "cell_type": "code",
      "source": [
        "plt.figure(figsize=(8,4))\n",
        "sns.histplot(train['pm2.5'].dropna(), bins=80, kde=False)\n",
        "plt.title(\"pm2.5 distribution (train)\")\n",
        "plt.xlabel(\"pm2.5\")\n",
        "plt.show()"
      ],
      "metadata": {
        "colab": {
          "base_uri": "https://localhost:8080/",
          "height": 410
        },
        "id": "2YV-tpAarlOP",
        "outputId": "c8e3a855-1c8a-4db0-e1f2-c766deebf98d"
      },
      "execution_count": 177,
      "outputs": [
        {
          "output_type": "display_data",
          "data": {
            "text/plain": [
              "<Figure size 800x400 with 1 Axes>"
            ],
            "image/png": "[encoded data removed]"
          },
          "metadata": {}
        }
      ]
    },
    {
      "cell_type": "markdown",
      "source": [
        "Check missing values"
      ],
      "metadata": {
        "id": "Ore3UzN9rqFU"
      }
    },
    {
      "cell_type": "code",
      "source": [
        "print(\"Missing values (train):\")\n",
        "print(train.isna().sum())\n",
        "print(\"\\nMissing values (test):\")\n",
        "print(test.isna().sum())"
      ],
      "metadata": {
        "colab": {
          "base_uri": "https://localhost:8080/"
        },
        "id": "2B8OGizYrrFM",
        "outputId": "883a41a1-7d0d-45cc-995f-0b915fcbbf85"
      },
      "execution_count": 178,
      "outputs": [
        {
          "output_type": "stream",
          "name": "stdout",
          "text": [
            "Missing values (train):\n",
            "No             0\n",
            "DEWP           0\n",
            "TEMP           0\n",
            "PRES           0\n",
            "Iws            0\n",
            "Is             0\n",
            "Ir             0\n",
            "datetime       0\n",
            "cbwd_NW        0\n",
            "cbwd_SE        0\n",
            "cbwd_cv        0\n",
            "pm2.5       1921\n",
            "dtype: int64\n",
            "\n",
            "Missing values (test):\n",
            "No          0\n",
            "DEWP        0\n",
            "TEMP        0\n",
            "PRES        0\n",
            "Iws         0\n",
            "Is          0\n",
            "Ir          0\n",
            "datetime    0\n",
            "cbwd_NW     0\n",
            "cbwd_SE     0\n",
            "cbwd_cv     0\n",
            "dtype: int64\n"
          ]
        }
      ]
    },
    {
      "cell_type": "markdown",
      "metadata": {
        "id": "ABAqt0Jztd5s"
      },
      "source": [
        "# Handle missing values\n",
        "\n",
        "\n",
        "- Check the dataset for missing values and decide how to handle them.\n",
        "- In this example, missing values are filled with the mean. You can experiment with other strategies."
      ]
    },
    {
      "cell_type": "markdown",
      "source": [
        "Basic forward/backfill"
      ],
      "metadata": {
        "id": "SCuxWDPjrwnC"
      }
    },
    {
      "cell_type": "code",
      "source": [
        "train.fillna(method='ffill', inplace=True)\n",
        "train.fillna(method='bfill', inplace=True)\n",
        "test.fillna(method='ffill', inplace=True)\n",
        "test.fillna(method='bfill', inplace=True)"
      ],
      "metadata": {
        "colab": {
          "base_uri": "https://localhost:8080/"
        },
        "id": "GQhpgqlOrxTD",
        "outputId": "3db9c6ac-e463-4b64-e227-f699a264fd21"
      },
      "execution_count": 179,
      "outputs": [
        {
          "output_type": "stream",
          "name": "stderr",
          "text": [
            "/tmp/ipython-input-3405811957.py:1: FutureWarning: DataFrame.fillna with 'method' is deprecated and will raise in a future version. Use obj.ffill() or obj.bfill() instead.\n",
            "  train.fillna(method='ffill', inplace=True)\n",
            "/tmp/ipython-input-3405811957.py:2: FutureWarning: DataFrame.fillna with 'method' is deprecated and will raise in a future version. Use obj.ffill() or obj.bfill() instead.\n",
            "  train.fillna(method='bfill', inplace=True)\n",
            "/tmp/ipython-input-3405811957.py:3: FutureWarning: DataFrame.fillna with 'method' is deprecated and will raise in a future version. Use obj.ffill() or obj.bfill() instead.\n",
            "  test.fillna(method='ffill', inplace=True)\n",
            "/tmp/ipython-input-3405811957.py:4: FutureWarning: DataFrame.fillna with 'method' is deprecated and will raise in a future version. Use obj.ffill() or obj.bfill() instead.\n",
            "  test.fillna(method='bfill', inplace=True)\n"
          ]
        }
      ]
    },
    {
      "cell_type": "markdown",
      "source": [
        "If 'No' column exists (some starters include it), drop it"
      ],
      "metadata": {
        "id": "sWBl_fT6r5Kb"
      }
    },
    {
      "cell_type": "code",
      "source": [
        "for df in [train, test]:\n",
        "    if 'No' in df.columns:\n",
        "        df.drop(columns=['No'], inplace=True)"
      ],
      "metadata": {
        "id": "DZQHojgRr54b"
      },
      "execution_count": 180,
      "outputs": []
    },
    {
      "cell_type": "markdown",
      "source": [
        "If datetime-like columns exist, parse them. Otherwise, attempt to create a sequential index"
      ],
      "metadata": {
        "id": "xSbb_mulsAUO"
      }
    },
    {
      "cell_type": "code",
      "source": [
        "if 'date' in train.columns:\n",
        "    train['date'] = pd.to_datetime(train['date'])\n",
        "    test['date'] = pd.to_datetime(test['date'])\n",
        "else:\n",
        "    train_length = len(train)\n",
        "    start = datetime.datetime(2010,1,1,0,0)\n",
        "    train['date'] = pd.date_range(start, periods=train_length, freq='H')\n",
        "    test['date'] = pd.date_range(train['date'].iloc[-1] + pd.Timedelta(hours=1),\n",
        "                                 periods=len(test), freq='H')"
      ],
      "metadata": {
        "colab": {
          "base_uri": "https://localhost:8080/"
        },
        "id": "jatwCWUgsBEi",
        "outputId": "aa105a65-b05e-43c6-c209-f7c6a3b1c0d0"
      },
      "execution_count": 181,
      "outputs": [
        {
          "output_type": "stream",
          "name": "stderr",
          "text": [
            "/tmp/ipython-input-3511329835.py:7: FutureWarning: 'H' is deprecated and will be removed in a future version, please use 'h' instead.\n",
            "  train['date'] = pd.date_range(start, periods=train_length, freq='H')\n",
            "/tmp/ipython-input-3511329835.py:8: FutureWarning: 'H' is deprecated and will be removed in a future version, please use 'h' instead.\n",
            "  test['date'] = pd.date_range(train['date'].iloc[-1] + pd.Timedelta(hours=1),\n"
          ]
        }
      ]
    },
    {
      "cell_type": "markdown",
      "source": [
        "Feature engineering"
      ],
      "metadata": {
        "id": "oqtk8eGSsXXT"
      }
    },
    {
      "cell_type": "code",
      "source": [
        "def add_time_features(df):\n",
        "    df['hour'] = df['date'].dt.hour\n",
        "    df['dayofweek'] = df['date'].dt.dayofweek\n",
        "    df['hour_sin'] = np.sin(2 * np.pi * df['hour'] / 24)\n",
        "    df['hour_cos'] = np.cos(2 * np.pi * df['hour'] / 24)\n",
        "    df['dow_sin'] = np.sin(2 * np.pi * df['dayofweek'] / 7)\n",
        "    df['dow_cos'] = np.cos(2 * np.pi * df['dayofweek'] / 7)\n",
        "    return df\n",
        "\n",
        "train = add_time_features(train)\n",
        "test = add_time_features(test)"
      ],
      "metadata": {
        "id": "YOkyMl_GsYDc"
      },
      "execution_count": 182,
      "outputs": []
    },
    {
      "cell_type": "markdown",
      "source": [
        "Rolling and lag features for variables likely to be predictive"
      ],
      "metadata": {
        "id": "ZZz-ZtKxsiPp"
      }
    },
    {
      "cell_type": "code",
      "source": [
        "rolling_cols = ['DEWP', 'TEMP', 'PRES', 'Iws', 'pm2.5']\n",
        "lag_hours = [1,2,3,6,12,24]\n",
        "\n",
        "for col in ['DEWP','TEMP','PRES','Iws']:\n",
        "    for lag in lag_hours:\n",
        "        train[f'{col}_lag{lag}'] = train[col].shift(lag)\n",
        "        test[f'{col}_lag{lag}'] = test[col].shift(lag)\n",
        "    train[f'{col}_roll3'] = train[col].rolling(3, min_periods=1).mean()\n",
        "    train[f'{col}_roll24'] = train[col].rolling(24, min_periods=1).mean()\n",
        "    test[f'{col}_roll3'] = test[col].rolling(3, min_periods=1).mean()\n",
        "    test[f'{col}_roll24'] = test[col].rolling(24, min_periods=1).mean()\n",
        "\n",
        "for lag in lag_hours:\n",
        "    train[f'pm2.5_lag{lag}'] = train['pm2.5'].shift(lag)\n",
        "\n",
        "train['pm2.5_roll3'] = train['pm2.5'].rolling(3, min_periods=1).mean()\n",
        "train['pm2.5_roll24'] = train['pm2.5'].rolling(24, min_periods=1).mean()\n",
        "\n",
        "train.fillna(method='bfill', inplace=True)\n",
        "test.fillna(method='bfill', inplace=True)"
      ],
      "metadata": {
        "colab": {
          "base_uri": "https://localhost:8080/"
        },
        "id": "a8QRbhLLsjFn",
        "outputId": "732a8311-d24a-4c1e-e739-895d5d4a7195"
      },
      "execution_count": 188,
      "outputs": [
        {
          "output_type": "stream",
          "name": "stderr",
          "text": [
            "/tmp/ipython-input-288191598.py:19: FutureWarning: DataFrame.fillna with 'method' is deprecated and will raise in a future version. Use obj.ffill() or obj.bfill() instead.\n",
            "  train.fillna(method='bfill', inplace=True)\n",
            "/tmp/ipython-input-288191598.py:20: FutureWarning: DataFrame.fillna with 'method' is deprecated and will raise in a future version. Use obj.ffill() or obj.bfill() instead.\n",
            "  test.fillna(method='bfill', inplace=True)\n"
          ]
        }
      ]
    },
    {
      "cell_type": "markdown",
      "source": [
        "Backfill newly created NaNs"
      ],
      "metadata": {
        "id": "ypXaiFsBtKLA"
      }
    },
    {
      "cell_type": "code",
      "source": [
        "train.fillna(method='bfill', inplace=True)\n",
        "test.fillna(method='bfill', inplace=True)"
      ],
      "metadata": {
        "colab": {
          "base_uri": "https://localhost:8080/"
        },
        "id": "LTaSMPZVtLkT",
        "outputId": "bd19df97-3c30-4d07-8479-501613283652"
      },
      "execution_count": 189,
      "outputs": [
        {
          "output_type": "stream",
          "name": "stderr",
          "text": [
            "/tmp/ipython-input-3736888924.py:1: FutureWarning: DataFrame.fillna with 'method' is deprecated and will raise in a future version. Use obj.ffill() or obj.bfill() instead.\n",
            "  train.fillna(method='bfill', inplace=True)\n",
            "/tmp/ipython-input-3736888924.py:2: FutureWarning: DataFrame.fillna with 'method' is deprecated and will raise in a future version. Use obj.ffill() or obj.bfill() instead.\n",
            "  test.fillna(method='bfill', inplace=True)\n"
          ]
        }
      ]
    },
    {
      "cell_type": "markdown",
      "source": [
        "Drop columns that are non-numeric or not useful"
      ],
      "metadata": {
        "id": "faAyhDimtSiN"
      }
    },
    {
      "cell_type": "code",
      "source": [
        "non_feature_cols = ['date']\n",
        "for c in non_feature_cols:\n",
        "    if c in train.columns:\n",
        "        train.drop(columns=[c], inplace=True)\n",
        "    if c in test.columns:\n",
        "        test.drop(columns=[c], inplace=True)"
      ],
      "metadata": {
        "id": "Qf8qG1grtTNN"
      },
      "execution_count": 190,
      "outputs": []
    },
    {
      "cell_type": "markdown",
      "metadata": {
        "id": "YKndkdRuty1C"
      },
      "source": [
        "# Separate features and target\n",
        "\n",
        "- Feel free to trop any non-essential columns like that you think might not contribute to modeling."
      ]
    },
    {
      "cell_type": "code",
      "execution_count": 191,
      "metadata": {
        "id": "QETLRAo_tvQH"
      },
      "outputs": [],
      "source": [
        "y = train['pm2.5'].values.reshape(-1,1)\n",
        "X = train.drop(columns=['pm2.5'])"
      ]
    },
    {
      "cell_type": "markdown",
      "source": [
        "Select numeric columns"
      ],
      "metadata": {
        "id": "y3Bv964qeG_5"
      }
    },
    {
      "cell_type": "code",
      "source": [
        "X_numeric = X.select_dtypes(include=['float64','int64']).copy()\n",
        "X_test_numeric = test.select_dtypes(include=['float64','int64']).copy()"
      ],
      "metadata": {
        "id": "J9UR6nf1eFJt"
      },
      "execution_count": 192,
      "outputs": []
    },
    {
      "cell_type": "markdown",
      "source": [
        "Drop pm2.5 lag/roll columns for modeling"
      ],
      "metadata": {
        "id": "7u-OusBReOnw"
      }
    },
    {
      "cell_type": "code",
      "source": [
        "drop_cols = [col for col in X_numeric.columns if 'pm2.5_lag' in col or 'pm2.5_roll' in col]\n",
        "X_numeric = X_numeric.drop(columns=drop_cols, errors='ignore')\n",
        "X_test_numeric = X_test_numeric.drop(columns=drop_cols, errors='ignore')"
      ],
      "metadata": {
        "id": "AwI8KDrneQEn"
      },
      "execution_count": 193,
      "outputs": []
    },
    {
      "cell_type": "markdown",
      "source": [
        "Add missing columns in test to match train"
      ],
      "metadata": {
        "id": "75igvupueVHU"
      }
    },
    {
      "cell_type": "code",
      "source": [
        "missing_cols = set(X_numeric.columns) - set(X_test_numeric.columns)\n",
        "for c in missing_cols:\n",
        "    X_test_numeric[c] = 0"
      ],
      "metadata": {
        "id": "o34GneeyeWqW"
      },
      "execution_count": 194,
      "outputs": []
    },
    {
      "cell_type": "markdown",
      "source": [
        "Align column order"
      ],
      "metadata": {
        "id": "c7h3veI1ecqw"
      }
    },
    {
      "cell_type": "code",
      "source": [
        "X_test_numeric = X_test_numeric[X_numeric.columns]"
      ],
      "metadata": {
        "id": "6leVzg5MeeE9"
      },
      "execution_count": 195,
      "outputs": []
    },
    {
      "cell_type": "markdown",
      "source": [
        "Scale features and target"
      ],
      "metadata": {
        "id": "hW8_Lpq2tkyN"
      }
    },
    {
      "cell_type": "code",
      "source": [
        "scaler_X = MinMaxScaler()\n",
        "scaler_y = MinMaxScaler()\n",
        "\n",
        "X_scaled = scaler_X.fit_transform(X_numeric)\n",
        "y_scaled = scaler_y.fit_transform(y)\n",
        "X_test_scaled = scaler_X.transform(X_test_numeric)"
      ],
      "metadata": {
        "id": "zLtIVV_CtnVb"
      },
      "execution_count": 196,
      "outputs": []
    },
    {
      "cell_type": "markdown",
      "source": [
        "Create sequences"
      ],
      "metadata": {
        "id": "wBo9dmFWvNeb"
      }
    },
    {
      "cell_type": "code",
      "source": [
        "def create_sequences(X, y, seq_len=24):\n",
        "    Xs, ys = [], []\n",
        "    for i in range(len(X)-seq_len):\n",
        "        Xs.append(X[i:i+seq_len])\n",
        "        ys.append(y[i+seq_len])\n",
        "    return np.array(Xs), np.array(ys)\n",
        "\n",
        "def create_test_sequences_for_submission(X_all_scaled, seq_len=24):\n",
        "    n_total = X_all_scaled.shape[0]\n",
        "    sequences = []\n",
        "    test_start = len(X_scaled)\n",
        "    for idx in range(test_start, n_total):\n",
        "        start_idx = idx - seq_len\n",
        "        if start_idx < 0:\n",
        "            seq = X_all_scaled[0:seq_len]\n",
        "        else:\n",
        "            seq = X_all_scaled[start_idx:idx]\n",
        "        sequences.append(seq)\n",
        "    return np.array(sequences)"
      ],
      "metadata": {
        "id": "22nvIn4YvOYu"
      },
      "execution_count": 197,
      "outputs": []
    },
    {
      "cell_type": "markdown",
      "source": [
        "Attention Layer"
      ],
      "metadata": {
        "id": "B5jF4qFtvXJT"
      }
    },
    {
      "cell_type": "code",
      "source": [
        "class Attention(Layer):\n",
        "    def __init__(self, **kwargs):\n",
        "        super(Attention, self).__init__(**kwargs)\n",
        "    def build(self, input_shape):\n",
        "        self.W = self.add_weight(name=\"att_weight\", shape=(input_shape[-1], 1),\n",
        "                                 initializer=\"normal\")\n",
        "        self.b = self.add_weight(name=\"att_bias\", shape=(input_shape[1], 1),\n",
        "                                 initializer=\"zeros\")\n",
        "        super(Attention, self).build(input_shape)\n",
        "    def call(self, x):\n",
        "        e = tf.keras.backend.tanh(tf.keras.backend.dot(x, self.W) + self.b)\n",
        "        a = tf.keras.backend.softmax(e, axis=1)\n",
        "        output = x * a\n",
        "        return tf.keras.backend.sum(output, axis=1)"
      ],
      "metadata": {
        "id": "NilZUIg4vX5b"
      },
      "execution_count": 198,
      "outputs": []
    },
    {
      "cell_type": "markdown",
      "metadata": {
        "id": "d488782wuR2W"
      },
      "source": [
        "# Build model\n",
        "\n",
        "Below is a simple LSTM model. Your task is to experiment with different parameters like, numbers of layers, units, activation functions, and optimizers, etc to get the best performing model. Experiment with other optimizers (e.g., SGD) or hyperparameters to improve performance."
      ]
    },
    {
      "cell_type": "code",
      "execution_count": 201,
      "metadata": {
        "id": "mfx2LPHxq5fG"
      },
      "outputs": [],
      "source": [
        "def build_hybrid_model(input_shape, units=128, dropout=0.3, lr=0.001, bidirectional=True):\n",
        "    inp = Input(shape=input_shape)\n",
        "    x = inp\n",
        "    if bidirectional:\n",
        "        x = Bidirectional(LSTM(units, return_sequences=True))(x)\n",
        "    else:\n",
        "        x = LSTM(units, return_sequences=True)(x)\n",
        "    x = Dropout(dropout)(x)\n",
        "    x = GRU(units//2, return_sequences=True)(x)\n",
        "    x = Dropout(dropout)(x)\n",
        "    x = Attention()(x)\n",
        "    x = Dense(64, activation='relu')(x)\n",
        "    out = Dense(1)(x)\n",
        "    model = Model(inputs=inp, outputs=out)\n",
        "    # Change lr -> learning_rate\n",
        "    model.compile(optimizer=Adam(learning_rate=lr, clipnorm=1.0),\n",
        "                  loss='mse',\n",
        "                  metrics=[tf.keras.metrics.RootMeanSquaredError(name='rmse')])\n",
        "    return model"
      ]
    },
    {
      "cell_type": "markdown",
      "source": [
        "Experiment table"
      ],
      "metadata": {
        "id": "WdIwSuqYvta7"
      }
    },
    {
      "cell_type": "code",
      "source": [
        "experiment_grid = [\n",
        "    {'seq_len':24, 'units':128, 'dropout':0.3, 'lr':0.001, 'batch_size':64},\n",
        "    {'seq_len':48, 'units':128, 'dropout':0.3, 'lr':0.001, 'batch_size':64},\n",
        "    {'seq_len':72, 'units':128, 'dropout':0.3, 'lr':0.001, 'batch_size':64},\n",
        "]\n",
        "\n",
        "experiment_results = []\n",
        "best_model = None\n",
        "best_val_rmse = np.inf\n",
        "best_config = None\n",
        "\n",
        "for i, cfg in enumerate(experiment_grid):\n",
        "    print(f\"\\n--- Experiment {i+1} ---\")\n",
        "    seq_len = cfg['seq_len']\n",
        "    units = cfg['units']\n",
        "    dropout = cfg['dropout']\n",
        "    lr = cfg['lr']\n",
        "    batch_size = cfg['batch_size']\n",
        "    epochs = 60\n",
        "\n",
        "    X_seq, y_seq = create_sequences(X_scaled, y_scaled, seq_len=seq_len)\n",
        "    val_split = int(0.8 * len(X_seq))\n",
        "    X_tr, X_val = X_seq[:val_split], X_seq[val_split:]\n",
        "    y_tr, y_val = y_seq[:val_split], y_seq[val_split:]\n",
        "\n",
        "    model = build_hybrid_model(input_shape=(seq_len, X_seq.shape[2]),\n",
        "                               units=units, dropout=dropout, lr=lr)\n",
        "    callbacks = [\n",
        "        EarlyStopping(monitor='val_loss', patience=10, restore_best_weights=True, verbose=1),\n",
        "        ReduceLROnPlateau(monitor='val_loss', factor=0.5, patience=5, verbose=1)\n",
        "    ]\n",
        "    history = model.fit(X_tr, y_tr, validation_data=(X_val, y_val),\n",
        "                        epochs=epochs, batch_size=batch_size,\n",
        "                        callbacks=callbacks, verbose=1)\n",
        "\n",
        "    val_metrics = model.evaluate(X_val, y_val, verbose=0)\n",
        "    val_rmse = val_metrics[1]\n",
        "\n",
        "    train_preds_scaled = model.predict(X_tr)\n",
        "    train_rmse = np.sqrt(np.mean((y_tr.flatten()-train_preds_scaled.flatten())**2))\n",
        "\n",
        "    print(f\"Experiment {i+1} — val_rmse: {val_rmse:.4f}, train_rmse: {train_rmse:.4f}\")\n",
        "\n",
        "    if val_rmse < best_val_rmse:\n",
        "        best_val_rmse = val_rmse\n",
        "        best_model = model\n",
        "        best_config = cfg"
      ],
      "metadata": {
        "colab": {
          "base_uri": "https://localhost:8080/"
        },
        "id": "p5Qm8I8cvw1p",
        "outputId": "61caf644-524d-4876-89c7-9e784e11af85"
      },
      "execution_count": 202,
      "outputs": [
        {
          "output_type": "stream",
          "name": "stdout",
          "text": [
            "\n",
            "--- Experiment 1 ---\n",
            "Epoch 1/60\n",
            "\u001b[1m384/384\u001b[0m \u001b[32m━━━━━━━━━━━━━━━━━━━━\u001b[0m\u001b[37m\u001b[0m \u001b[1m70s\u001b[0m 158ms/step - loss: 0.0093 - rmse: 0.0934 - val_loss: 0.0076 - val_rmse: 0.0872 - learning_rate: 0.0010\n",
            "Epoch 2/60\n",
            "\u001b[1m384/384\u001b[0m \u001b[32m━━━━━━━━━━━━━━━━━━━━\u001b[0m\u001b[37m\u001b[0m \u001b[1m61s\u001b[0m 159ms/step - loss: 0.0048 - rmse: 0.0696 - val_loss: 0.0064 - val_rmse: 0.0802 - learning_rate: 0.0010\n",
            "Epoch 3/60\n",
            "\u001b[1m384/384\u001b[0m \u001b[32m━━━━━━━━━━━━━━━━━━━━\u001b[0m\u001b[37m\u001b[0m \u001b[1m80s\u001b[0m 154ms/step - loss: 0.0043 - rmse: 0.0655 - val_loss: 0.0064 - val_rmse: 0.0799 - learning_rate: 0.0010\n",
            "Epoch 4/60\n",
            "\u001b[1m384/384\u001b[0m \u001b[32m━━━━━━━━━━━━━━━━━━━━\u001b[0m\u001b[37m\u001b[0m \u001b[1m61s\u001b[0m 158ms/step - loss: 0.0041 - rmse: 0.0642 - val_loss: 0.0064 - val_rmse: 0.0802 - learning_rate: 0.0010\n",
            "Epoch 5/60\n",
            "\u001b[1m384/384\u001b[0m \u001b[32m━━━━━━━━━━━━━━━━━━━━\u001b[0m\u001b[37m\u001b[0m \u001b[1m85s\u001b[0m 167ms/step - loss: 0.0039 - rmse: 0.0622 - val_loss: 0.0068 - val_rmse: 0.0824 - learning_rate: 0.0010\n",
            "Epoch 6/60\n",
            "\u001b[1m384/384\u001b[0m \u001b[32m━━━━━━━━━━━━━━━━━━━━\u001b[0m\u001b[37m\u001b[0m \u001b[1m60s\u001b[0m 155ms/step - loss: 0.0036 - rmse: 0.0598 - val_loss: 0.0065 - val_rmse: 0.0808 - learning_rate: 0.0010\n",
            "Epoch 7/60\n",
            "\u001b[1m383/384\u001b[0m \u001b[32m━━━━━━━━━━━━━━━━━━━\u001b[0m\u001b[37m━\u001b[0m \u001b[1m0s\u001b[0m 145ms/step - loss: 0.0034 - rmse: 0.0584\n",
            "Epoch 7: ReduceLROnPlateau reducing learning rate to 0.0005000000237487257.\n",
            "\u001b[1m384/384\u001b[0m \u001b[32m━━━━━━━━━━━━━━━━━━━━\u001b[0m\u001b[37m\u001b[0m \u001b[1m59s\u001b[0m 154ms/step - loss: 0.0034 - rmse: 0.0584 - val_loss: 0.0064 - val_rmse: 0.0797 - learning_rate: 0.0010\n",
            "Epoch 8/60\n",
            "\u001b[1m384/384\u001b[0m \u001b[32m━━━━━━━━━━━━━━━━━━━━\u001b[0m\u001b[37m\u001b[0m \u001b[1m62s\u001b[0m 161ms/step - loss: 0.0031 - rmse: 0.0557 - val_loss: 0.0059 - val_rmse: 0.0768 - learning_rate: 5.0000e-04\n",
            "Epoch 9/60\n",
            "\u001b[1m384/384\u001b[0m \u001b[32m━━━━━━━━━━━━━━━━━━━━\u001b[0m\u001b[37m\u001b[0m \u001b[1m85s\u001b[0m 168ms/step - loss: 0.0029 - rmse: 0.0541 - val_loss: 0.0059 - val_rmse: 0.0771 - learning_rate: 5.0000e-04\n",
            "Epoch 10/60\n",
            "\u001b[1m384/384\u001b[0m \u001b[32m━━━━━━━━━━━━━━━━━━━━\u001b[0m\u001b[37m\u001b[0m \u001b[1m78s\u001b[0m 157ms/step - loss: 0.0028 - rmse: 0.0531 - val_loss: 0.0062 - val_rmse: 0.0786 - learning_rate: 5.0000e-04\n",
            "Epoch 11/60\n",
            "\u001b[1m384/384\u001b[0m \u001b[32m━━━━━━━━━━━━━━━━━━━━\u001b[0m\u001b[37m\u001b[0m \u001b[1m86s\u001b[0m 167ms/step - loss: 0.0027 - rmse: 0.0522 - val_loss: 0.0065 - val_rmse: 0.0804 - learning_rate: 5.0000e-04\n",
            "Epoch 12/60\n",
            "\u001b[1m384/384\u001b[0m \u001b[32m━━━━━━━━━━━━━━━━━━━━\u001b[0m\u001b[37m\u001b[0m \u001b[1m78s\u001b[0m 157ms/step - loss: 0.0027 - rmse: 0.0515 - val_loss: 0.0063 - val_rmse: 0.0796 - learning_rate: 5.0000e-04\n",
            "Epoch 13/60\n",
            "\u001b[1m383/384\u001b[0m \u001b[32m━━━━━━━━━━━━━━━━━━━\u001b[0m\u001b[37m━\u001b[0m \u001b[1m0s\u001b[0m 148ms/step - loss: 0.0025 - rmse: 0.0500\n",
            "Epoch 13: ReduceLROnPlateau reducing learning rate to 0.0002500000118743628.\n",
            "\u001b[1m384/384\u001b[0m \u001b[32m━━━━━━━━━━━━━━━━━━━━\u001b[0m\u001b[37m\u001b[0m \u001b[1m82s\u001b[0m 157ms/step - loss: 0.0025 - rmse: 0.0500 - val_loss: 0.0063 - val_rmse: 0.0795 - learning_rate: 5.0000e-04\n",
            "Epoch 14/60\n",
            "\u001b[1m384/384\u001b[0m \u001b[32m━━━━━━━━━━━━━━━━━━━━\u001b[0m\u001b[37m\u001b[0m \u001b[1m61s\u001b[0m 160ms/step - loss: 0.0022 - rmse: 0.0470 - val_loss: 0.0066 - val_rmse: 0.0815 - learning_rate: 2.5000e-04\n",
            "Epoch 15/60\n",
            "\u001b[1m384/384\u001b[0m \u001b[32m━━━━━━━━━━━━━━━━━━━━\u001b[0m\u001b[37m\u001b[0m \u001b[1m82s\u001b[0m 160ms/step - loss: 0.0021 - rmse: 0.0460 - val_loss: 0.0069 - val_rmse: 0.0829 - learning_rate: 2.5000e-04\n",
            "Epoch 16/60\n",
            "\u001b[1m384/384\u001b[0m \u001b[32m━━━━━━━━━━━━━━━━━━━━\u001b[0m\u001b[37m\u001b[0m \u001b[1m80s\u001b[0m 156ms/step - loss: 0.0020 - rmse: 0.0450 - val_loss: 0.0070 - val_rmse: 0.0835 - learning_rate: 2.5000e-04\n",
            "Epoch 17/60\n",
            "\u001b[1m384/384\u001b[0m \u001b[32m━━━━━━━━━━━━━━━━━━━━\u001b[0m\u001b[37m\u001b[0m \u001b[1m82s\u001b[0m 157ms/step - loss: 0.0019 - rmse: 0.0441 - val_loss: 0.0067 - val_rmse: 0.0820 - learning_rate: 2.5000e-04\n",
            "Epoch 18/60\n",
            "\u001b[1m384/384\u001b[0m \u001b[32m━━━━━━━━━━━━━━━━━━━━\u001b[0m\u001b[37m\u001b[0m \u001b[1m0s\u001b[0m 144ms/step - loss: 0.0019 - rmse: 0.0433\n",
            "Epoch 18: ReduceLROnPlateau reducing learning rate to 0.0001250000059371814.\n",
            "\u001b[1m384/384\u001b[0m \u001b[32m━━━━━━━━━━━━━━━━━━━━\u001b[0m\u001b[37m\u001b[0m \u001b[1m81s\u001b[0m 155ms/step - loss: 0.0019 - rmse: 0.0433 - val_loss: 0.0069 - val_rmse: 0.0828 - learning_rate: 2.5000e-04\n",
            "Epoch 18: early stopping\n",
            "Restoring model weights from the end of the best epoch: 8.\n",
            "\u001b[1m767/767\u001b[0m \u001b[32m━━━━━━━━━━━━━━━━━━━━\u001b[0m\u001b[37m\u001b[0m \u001b[1m25s\u001b[0m 32ms/step\n",
            "Experiment 1 — val_rmse: 0.0768, train_rmse: 0.0560\n",
            "\n",
            "--- Experiment 2 ---\n",
            "Epoch 1/60\n",
            "\u001b[1m383/383\u001b[0m \u001b[32m━━━━━━━━━━━━━━━━━━━━\u001b[0m\u001b[37m\u001b[0m \u001b[1m122s\u001b[0m 301ms/step - loss: 0.0102 - rmse: 0.0973 - val_loss: 0.0067 - val_rmse: 0.0821 - learning_rate: 0.0010\n",
            "Epoch 2/60\n",
            "\u001b[1m383/383\u001b[0m \u001b[32m━━━━━━━━━━━━━━━━━━━━\u001b[0m\u001b[37m\u001b[0m \u001b[1m141s\u001b[0m 300ms/step - loss: 0.0047 - rmse: 0.0688 - val_loss: 0.0068 - val_rmse: 0.0823 - learning_rate: 0.0010\n",
            "Epoch 3/60\n",
            "\u001b[1m383/383\u001b[0m \u001b[32m━━━━━━━━━━━━━━━━━━━━\u001b[0m\u001b[37m\u001b[0m \u001b[1m141s\u001b[0m 297ms/step - loss: 0.0043 - rmse: 0.0653 - val_loss: 0.0068 - val_rmse: 0.0826 - learning_rate: 0.0010\n",
            "Epoch 4/60\n",
            "\u001b[1m383/383\u001b[0m \u001b[32m━━━━━━━━━━━━━━━━━━━━\u001b[0m\u001b[37m\u001b[0m \u001b[1m142s\u001b[0m 298ms/step - loss: 0.0040 - rmse: 0.0634 - val_loss: 0.0065 - val_rmse: 0.0809 - learning_rate: 0.0010\n",
            "Epoch 5/60\n",
            "\u001b[1m383/383\u001b[0m \u001b[32m━━━━━━━━━━━━━━━━━━━━\u001b[0m\u001b[37m\u001b[0m \u001b[1m140s\u001b[0m 294ms/step - loss: 0.0038 - rmse: 0.0616 - val_loss: 0.0068 - val_rmse: 0.0826 - learning_rate: 0.0010\n",
            "Epoch 6/60\n",
            "\u001b[1m383/383\u001b[0m \u001b[32m━━━━━━━━━━━━━━━━━━━━\u001b[0m\u001b[37m\u001b[0m \u001b[1m148s\u001b[0m 311ms/step - loss: 0.0036 - rmse: 0.0604 - val_loss: 0.0062 - val_rmse: 0.0785 - learning_rate: 0.0010\n",
            "Epoch 7/60\n",
            "\u001b[1m383/383\u001b[0m \u001b[32m━━━━━━━━━━━━━━━━━━━━\u001b[0m\u001b[37m\u001b[0m \u001b[1m122s\u001b[0m 318ms/step - loss: 0.0035 - rmse: 0.0588 - val_loss: 0.0061 - val_rmse: 0.0784 - learning_rate: 0.0010\n",
            "Epoch 8/60\n",
            "\u001b[1m383/383\u001b[0m \u001b[32m━━━━━━━━━━━━━━━━━━━━\u001b[0m\u001b[37m\u001b[0m \u001b[1m134s\u001b[0m 297ms/step - loss: 0.0032 - rmse: 0.0569 - val_loss: 0.0070 - val_rmse: 0.0837 - learning_rate: 0.0010\n",
            "Epoch 9/60\n",
            "\u001b[1m383/383\u001b[0m \u001b[32m━━━━━━━━━━━━━━━━━━━━\u001b[0m\u001b[37m\u001b[0m \u001b[1m141s\u001b[0m 293ms/step - loss: 0.0030 - rmse: 0.0550 - val_loss: 0.0073 - val_rmse: 0.0857 - learning_rate: 0.0010\n",
            "Epoch 10/60\n",
            "\u001b[1m383/383\u001b[0m \u001b[32m━━━━━━━━━━━━━━━━━━━━\u001b[0m\u001b[37m\u001b[0m \u001b[1m142s\u001b[0m 294ms/step - loss: 0.0029 - rmse: 0.0535 - val_loss: 0.0068 - val_rmse: 0.0827 - learning_rate: 0.0010\n",
            "Epoch 11/60\n",
            "\u001b[1m383/383\u001b[0m \u001b[32m━━━━━━━━━━━━━━━━━━━━\u001b[0m\u001b[37m\u001b[0m \u001b[1m0s\u001b[0m 266ms/step - loss: 0.0028 - rmse: 0.0529\n",
            "Epoch 11: ReduceLROnPlateau reducing learning rate to 0.0005000000237487257.\n",
            "\u001b[1m383/383\u001b[0m \u001b[32m━━━━━━━━━━━━━━━━━━━━\u001b[0m\u001b[37m\u001b[0m \u001b[1m112s\u001b[0m 293ms/step - loss: 0.0028 - rmse: 0.0529 - val_loss: 0.0067 - val_rmse: 0.0816 - learning_rate: 0.0010\n",
            "Epoch 12/60\n",
            "\u001b[1m383/383\u001b[0m \u001b[32m━━━━━━━━━━━━━━━━━━━━\u001b[0m\u001b[37m\u001b[0m \u001b[1m109s\u001b[0m 284ms/step - loss: 0.0023 - rmse: 0.0484 - val_loss: 0.0075 - val_rmse: 0.0866 - learning_rate: 5.0000e-04\n",
            "Epoch 13/60\n",
            "\u001b[1m383/383\u001b[0m \u001b[32m━━━━━━━━━━━━━━━━━━━━\u001b[0m\u001b[37m\u001b[0m \u001b[1m149s\u001b[0m 304ms/step - loss: 0.0021 - rmse: 0.0462 - val_loss: 0.0070 - val_rmse: 0.0840 - learning_rate: 5.0000e-04\n",
            "Epoch 14/60\n",
            "\u001b[1m383/383\u001b[0m \u001b[32m━━━━━━━━━━━━━━━━━━━━\u001b[0m\u001b[37m\u001b[0m \u001b[1m137s\u001b[0m 290ms/step - loss: 0.0020 - rmse: 0.0445 - val_loss: 0.0075 - val_rmse: 0.0864 - learning_rate: 5.0000e-04\n",
            "Epoch 15/60\n",
            "\u001b[1m383/383\u001b[0m \u001b[32m━━━━━━━━━━━━━━━━━━━━\u001b[0m\u001b[37m\u001b[0m \u001b[1m138s\u001b[0m 281ms/step - loss: 0.0019 - rmse: 0.0436 - val_loss: 0.0082 - val_rmse: 0.0903 - learning_rate: 5.0000e-04\n",
            "Epoch 16/60\n",
            "\u001b[1m383/383\u001b[0m \u001b[32m━━━━━━━━━━━━━━━━━━━━\u001b[0m\u001b[37m\u001b[0m \u001b[1m0s\u001b[0m 266ms/step - loss: 0.0019 - rmse: 0.0438\n",
            "Epoch 16: ReduceLROnPlateau reducing learning rate to 0.0002500000118743628.\n",
            "\u001b[1m383/383\u001b[0m \u001b[32m━━━━━━━━━━━━━━━━━━━━\u001b[0m\u001b[37m\u001b[0m \u001b[1m112s\u001b[0m 293ms/step - loss: 0.0019 - rmse: 0.0438 - val_loss: 0.0076 - val_rmse: 0.0869 - learning_rate: 5.0000e-04\n",
            "Epoch 17/60\n",
            "\u001b[1m383/383\u001b[0m \u001b[32m━━━━━━━━━━━━━━━━━━━━\u001b[0m\u001b[37m\u001b[0m \u001b[1m111s\u001b[0m 290ms/step - loss: 0.0015 - rmse: 0.0389 - val_loss: 0.0074 - val_rmse: 0.0861 - learning_rate: 2.5000e-04\n",
            "Epoch 17: early stopping\n",
            "Restoring model weights from the end of the best epoch: 7.\n",
            "\u001b[1m766/766\u001b[0m \u001b[32m━━━━━━━━━━━━━━━━━━━━\u001b[0m\u001b[37m\u001b[0m \u001b[1m43s\u001b[0m 56ms/step\n",
            "Experiment 2 — val_rmse: 0.0784, train_rmse: 0.0587\n",
            "\n",
            "--- Experiment 3 ---\n",
            "Epoch 1/60\n",
            "\u001b[1m383/383\u001b[0m \u001b[32m━━━━━━━━━━━━━━━━━━━━\u001b[0m\u001b[37m\u001b[0m \u001b[1m172s\u001b[0m 428ms/step - loss: 0.0095 - rmse: 0.0952 - val_loss: 0.0066 - val_rmse: 0.0810 - learning_rate: 0.0010\n",
            "Epoch 2/60\n",
            "\u001b[1m383/383\u001b[0m \u001b[32m━━━━━━━━━━━━━━━━━━━━\u001b[0m\u001b[37m\u001b[0m \u001b[1m200s\u001b[0m 422ms/step - loss: 0.0050 - rmse: 0.0704 - val_loss: 0.0065 - val_rmse: 0.0805 - learning_rate: 0.0010\n",
            "Epoch 3/60\n",
            "\u001b[1m383/383\u001b[0m \u001b[32m━━━━━━━━━━━━━━━━━━━━\u001b[0m\u001b[37m\u001b[0m \u001b[1m210s\u001b[0m 444ms/step - loss: 0.0043 - rmse: 0.0652 - val_loss: 0.0061 - val_rmse: 0.0782 - learning_rate: 0.0010\n",
            "Epoch 4/60\n",
            "\u001b[1m383/383\u001b[0m \u001b[32m━━━━━━━━━━━━━━━━━━━━\u001b[0m\u001b[37m\u001b[0m \u001b[1m170s\u001b[0m 444ms/step - loss: 0.0039 - rmse: 0.0625 - val_loss: 0.0058 - val_rmse: 0.0762 - learning_rate: 0.0010\n",
            "Epoch 5/60\n",
            "\u001b[1m383/383\u001b[0m \u001b[32m━━━━━━━━━━━━━━━━━━━━\u001b[0m\u001b[37m\u001b[0m \u001b[1m171s\u001b[0m 446ms/step - loss: 0.0037 - rmse: 0.0607 - val_loss: 0.0064 - val_rmse: 0.0797 - learning_rate: 0.0010\n",
            "Epoch 6/60\n",
            "\u001b[1m383/383\u001b[0m \u001b[32m━━━━━━━━━━━━━━━━━━━━\u001b[0m\u001b[37m\u001b[0m \u001b[1m202s\u001b[0m 446ms/step - loss: 0.0034 - rmse: 0.0586 - val_loss: 0.0056 - val_rmse: 0.0747 - learning_rate: 0.0010\n",
            "Epoch 7/60\n",
            "\u001b[1m383/383\u001b[0m \u001b[32m━━━━━━━━━━━━━━━━━━━━\u001b[0m\u001b[37m\u001b[0m \u001b[1m204s\u001b[0m 451ms/step - loss: 0.0033 - rmse: 0.0573 - val_loss: 0.0058 - val_rmse: 0.0763 - learning_rate: 0.0010\n",
            "Epoch 8/60\n",
            "\u001b[1m383/383\u001b[0m \u001b[32m━━━━━━━━━━━━━━━━━━━━\u001b[0m\u001b[37m\u001b[0m \u001b[1m199s\u001b[0m 444ms/step - loss: 0.0030 - rmse: 0.0551 - val_loss: 0.0058 - val_rmse: 0.0760 - learning_rate: 0.0010\n",
            "Epoch 9/60\n",
            "\u001b[1m383/383\u001b[0m \u001b[32m━━━━━━━━━━━━━━━━━━━━\u001b[0m\u001b[37m\u001b[0m \u001b[1m171s\u001b[0m 447ms/step - loss: 0.0028 - rmse: 0.0532 - val_loss: 0.0059 - val_rmse: 0.0766 - learning_rate: 0.0010\n",
            "Epoch 10/60\n",
            "\u001b[1m383/383\u001b[0m \u001b[32m━━━━━━━━━━━━━━━━━━━━\u001b[0m\u001b[37m\u001b[0m \u001b[1m199s\u001b[0m 441ms/step - loss: 0.0027 - rmse: 0.0519 - val_loss: 0.0060 - val_rmse: 0.0776 - learning_rate: 0.0010\n",
            "Epoch 11/60\n",
            "\u001b[1m383/383\u001b[0m \u001b[32m━━━━━━━━━━━━━━━━━━━━\u001b[0m\u001b[37m\u001b[0m \u001b[1m0s\u001b[0m 388ms/step - loss: 0.0024 - rmse: 0.0492\n",
            "Epoch 11: ReduceLROnPlateau reducing learning rate to 0.0005000000237487257.\n",
            "\u001b[1m383/383\u001b[0m \u001b[32m━━━━━━━━━━━━━━━━━━━━\u001b[0m\u001b[37m\u001b[0m \u001b[1m202s\u001b[0m 442ms/step - loss: 0.0024 - rmse: 0.0492 - val_loss: 0.0061 - val_rmse: 0.0782 - learning_rate: 0.0010\n",
            "Epoch 12/60\n",
            "\u001b[1m383/383\u001b[0m \u001b[32m━━━━━━━━━━━━━━━━━━━━\u001b[0m\u001b[37m\u001b[0m \u001b[1m161s\u001b[0m 420ms/step - loss: 0.0020 - rmse: 0.0447 - val_loss: 0.0065 - val_rmse: 0.0807 - learning_rate: 5.0000e-04\n",
            "Epoch 13/60\n",
            "\u001b[1m383/383\u001b[0m \u001b[32m━━━━━━━━━━━━━━━━━━━━\u001b[0m\u001b[37m\u001b[0m \u001b[1m169s\u001b[0m 441ms/step - loss: 0.0018 - rmse: 0.0420 - val_loss: 0.0064 - val_rmse: 0.0801 - learning_rate: 5.0000e-04\n",
            "Epoch 14/60\n",
            "\u001b[1m383/383\u001b[0m \u001b[32m━━━━━━━━━━━━━━━━━━━━\u001b[0m\u001b[37m\u001b[0m \u001b[1m170s\u001b[0m 443ms/step - loss: 0.0017 - rmse: 0.0408 - val_loss: 0.0068 - val_rmse: 0.0825 - learning_rate: 5.0000e-04\n",
            "Epoch 15/60\n",
            "\u001b[1m383/383\u001b[0m \u001b[32m━━━━━━━━━━━━━━━━━━━━\u001b[0m\u001b[37m\u001b[0m \u001b[1m172s\u001b[0m 447ms/step - loss: 0.0016 - rmse: 0.0397 - val_loss: 0.0067 - val_rmse: 0.0816 - learning_rate: 5.0000e-04\n",
            "Epoch 16/60\n",
            "\u001b[1m383/383\u001b[0m \u001b[32m━━━━━━━━━━━━━━━━━━━━\u001b[0m\u001b[37m\u001b[0m \u001b[1m0s\u001b[0m 396ms/step - loss: 0.0015 - rmse: 0.0391\n",
            "Epoch 16: ReduceLROnPlateau reducing learning rate to 0.0002500000118743628.\n",
            "\u001b[1m383/383\u001b[0m \u001b[32m━━━━━━━━━━━━━━━━━━━━\u001b[0m\u001b[37m\u001b[0m \u001b[1m162s\u001b[0m 423ms/step - loss: 0.0015 - rmse: 0.0391 - val_loss: 0.0068 - val_rmse: 0.0822 - learning_rate: 5.0000e-04\n",
            "Epoch 16: early stopping\n",
            "Restoring model weights from the end of the best epoch: 6.\n",
            "\u001b[1m766/766\u001b[0m \u001b[32m━━━━━━━━━━━━━━━━━━━━\u001b[0m\u001b[37m\u001b[0m \u001b[1m65s\u001b[0m 84ms/step\n",
            "Experiment 3 — val_rmse: 0.0747, train_rmse: 0.0569\n"
          ]
        }
      ]
    },
    {
      "cell_type": "markdown",
      "source": [
        "Final Prediction"
      ],
      "metadata": {
        "id": "wgxvDFnLwFGM"
      }
    },
    {
      "cell_type": "code",
      "source": [
        "X_all_scaled = np.vstack([X_scaled, X_test_scaled])\n",
        "SEQ_LEN = best_config['seq_len']\n",
        "X_test_seq_for_pred = create_test_sequences_for_submission(X_all_scaled, seq_len=SEQ_LEN)\n",
        "preds_scaled = best_model.predict(X_test_seq_for_pred)\n",
        "preds = scaler_y.inverse_transform(preds_scaled.reshape(-1,1)).flatten()"
      ],
      "metadata": {
        "colab": {
          "base_uri": "https://localhost:8080/"
        },
        "id": "c3kF164nwGpa",
        "outputId": "89f087ba-fa8b-4245-c255-1089fa466246"
      },
      "execution_count": 203,
      "outputs": [
        {
          "output_type": "stream",
          "name": "stdout",
          "text": [
            "\u001b[1m411/411\u001b[0m \u001b[32m━━━━━━━━━━━━━━━━━━━━\u001b[0m\u001b[37m\u001b[0m \u001b[1m45s\u001b[0m 109ms/step\n"
          ]
        }
      ]
    },
    {
      "cell_type": "markdown",
      "source": [
        "Adjust prediction length"
      ],
      "metadata": {
        "id": "9Pcu4_I9wNti"
      }
    },
    {
      "cell_type": "code",
      "source": [
        "if len(preds) > len(sample):\n",
        "    preds = preds[:len(sample)]\n",
        "elif len(preds) < len(sample):\n",
        "    pad_len = len(sample) - len(preds)\n",
        "    preds = np.concatenate([preds, np.repeat(preds[-1], pad_len)])\n",
        "\n",
        "submission = sample.copy()\n",
        "submission['pm2.5'] = preds\n",
        "submission.to_csv('/content/drive/MyDrive/2-updated_submission.csv', index=False)\n",
        "print(\"Submission saved.\")"
      ],
      "metadata": {
        "colab": {
          "base_uri": "https://localhost:8080/"
        },
        "id": "XiSdUXASwOd-",
        "outputId": "4bdd64e4-6e91-49c4-e06c-c244ac3ef608"
      },
      "execution_count": 204,
      "outputs": [
        {
          "output_type": "stream",
          "name": "stdout",
          "text": [
            "Submission saved.\n"
          ]
        }
      ]
    },
    {
      "cell_type": "markdown",
      "source": [
        "Plot last training history"
      ],
      "metadata": {
        "id": "TExXbQylwjRf"
      }
    },
    {
      "cell_type": "code",
      "source": [
        "plt.figure(figsize=(8,5))\n",
        "plt.plot(history.history['loss'], label='train_loss')\n",
        "plt.plot(history.history['val_loss'], label='val_loss')\n",
        "plt.title('Training & Validation Loss')\n",
        "plt.xlabel('Epochs')\n",
        "plt.ylabel('MSE Loss')\n",
        "plt.legend()\n",
        "plt.show()"
      ],
      "metadata": {
        "colab": {
          "base_uri": "https://localhost:8080/",
          "height": 487
        },
        "id": "o1DDwJ2ewlJ7",
        "outputId": "8ca81abb-479a-4cb7-925b-f3c99e3c614b"
      },
      "execution_count": 205,
      "outputs": [
        {
          "output_type": "display_data",
          "data": {
            "text/plain": [
              "<Figure size 800x500 with 1 Axes>"
            ],
            "image/png": "[encoded data removed]"
          },
          "metadata": {}
        }
      ]
    },
    {
      "cell_type": "markdown",
      "source": [
        "Quick RMSE on last validation"
      ],
      "metadata": {
        "id": "uaDW_IUv6EJ8"
      }
    },
    {
      "cell_type": "code",
      "source": [
        "val_preds_scaled = best_model.predict(X_val)\n",
        "val_preds = scaler_y.inverse_transform(val_preds_scaled)\n",
        "y_val_true = scaler_y.inverse_transform(y_val)\n",
        "val_rmse_abs = np.sqrt(np.mean((y_val_true.flatten() - val_preds.flatten())**2))\n",
        "print(f\"Last experiment validation RMSE (absolute scale): {val_rmse_abs:.4f}\")"
      ],
      "metadata": {
        "colab": {
          "base_uri": "https://localhost:8080/"
        },
        "id": "p9dxQIna6HDS",
        "outputId": "1f15b16c-39d3-4247-cfc7-ca2aa008265f"
      },
      "execution_count": 206,
      "outputs": [
        {
          "output_type": "stream",
          "name": "stdout",
          "text": [
            "\u001b[1m192/192\u001b[0m \u001b[32m━━━━━━━━━━━━━━━━━━━━\u001b[0m\u001b[37m\u001b[0m \u001b[1m15s\u001b[0m 80ms/step\n",
            "Last experiment validation RMSE (absolute scale): 74.2224\n"
          ]
        }
      ]
    }
  ],
  "metadata": {
    "colab": {
      "provenance": [],
      "include_colab_link": true
    },
    "kernelspec": {
      "display_name": "Python 3",
      "name": "python3"
    },
    "language_info": {
      "name": "python"
    }
  },
  "nbformat": 4,
  "nbformat_minor": 0
}